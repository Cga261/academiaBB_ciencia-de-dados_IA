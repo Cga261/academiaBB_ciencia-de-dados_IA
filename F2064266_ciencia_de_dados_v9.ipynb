{
  "metadata": {
    "kernelspec": {
      "name": "python",
      "display_name": "Python (Pyodide)",
      "language": "python"
    },
    "language_info": {
      "codemirror_mode": {
        "name": "python",
        "version": 3
      },
      "file_extension": ".py",
      "mimetype": "text/x-python",
      "name": "python",
      "nbconvert_exporter": "python",
      "pygments_lexer": "ipython3",
      "version": "3.8"
    },
    "colab": {
      "provenance": []
    }
  },
  "nbformat_minor": 5,
  "nbformat": 4,
  "cells": [
    {
      "id": "64f0ef47",
      "cell_type": "markdown",
      "source": "# Identificação do participante\n\nPreencha a célula abaixo com sua matrícula no formato F + 7 algarismos, sem dígito verificador.\n\nExemplo:\n\n    chaveF = \"F1234567\"",
      "metadata": {
        "id": "64f0ef47"
      }
    },
    {
      "id": "310fafc2",
      "cell_type": "code",
      "source": "chaveF = \"F2064266\"",
      "metadata": {
        "id": "310fafc2",
        "tags": [],
        "trusted": true
      },
      "outputs": [],
      "execution_count": 9
    },
    {
      "id": "b7ea7963",
      "cell_type": "markdown",
      "source": "# Orientações Gerais:\n\n1) Inclua sua matrícula na seção de Identificação, no início deste Notebook.\n\n2) **Link para envio:**\n\n- https://envio-academiabb.bb.com.br/\n\n    - **Atenção:** não serão acatadas outras formas de envio. O link acima permite acesso com senha de portais externos.\n\n3) Selecione o eixo I.A e Ciência de Dados ao enviar.\n\n**Nome do arquivo:** cada participante deverá baixar o presente arquivo e renomeá-lo de modo a conter:\n\n- A matrícula com F maiúsculo, sete algarismos e sem dígito (FXXXXXXX)\n\n- O eixo o qual a entrega se refere em letras minúsculas: ciencia_de_dados\n\n- O nome não deve conter espaços em branco. Substitua-os por “_”.\n\n- O versionamento será gerado automaticamente na subida do arquivo, por meio do timestamp do envio.\n\n    - Exemplo1: FXXXXXX_ciencia_de_dados.ipynb\n\n    - Exemplo2: FXXXXXX_ciencia_de_dados_v3.ipynb\n\n**Formato:** .ipynb\n\n- **Atenção:** não carregar nenhum outro formato de arquivo, pois será ignorado\n\n**Prazo final:** até às 18h (horário de Brasília) do dia 15/11/2024.\n\n## Requerimentos de versões\n\nPara construção do desafio em qualquer ambiente externo, recomendamos utilizar as versões de biblioteca abaixo especificadas:\n\n|Biblioteca|Versão|\n|---|---|\n|pandas|1.5.2 ou inferior|\n|numpy|1.23.5 ou inferior|\n|matplotlib|3.5.2 ou inferior|\n|imblearn|0.11.0|\n|seaborn|0.12.2 ou inferior|\n|scikit-learn|1.2.0 ou inferior|\n\nCaso necessite utilizar outras bibliotecas, verifique a versão disponível no [labblite](https://labblite.bb.com.br/) após importação da biblioteca, por meio da instrução:\n    \n    print(nome_biblioteca. __version__)\n    \n    Exemplo:\n        import pandas as pd\n        print(pd. __version__)\n\nCaso a biblioteca não esteja disponível no labblite, entre em contato com a comissão organizadora para verificar a possibilidade de utilização no script, sob o risco de gerar erros no código.\n\n## Pode:\n\n- Inserir células no notebook.\n\n    Obs: as células adicionadas após a seção do Boletim de Soluções não surtirão efeitos para fins de validação dos resultados dos exercícios propostos.\n\n- Fazer vários envios (quantos forem necessários).\n\n- Desenvolver em qualquer plataforma python:\n\n    - [Labblite](https://labblite.bb.com.br/)\n    \n    Atenção: consulte as versões homologadas pelo Banco no aplicativo <b>BB Verifica Software</b> antes de instalar qualquer aplicativo nas máquinas corporativas.\n\n## Não pode:\n\n- Alterar bases de dados.\n\n- Utilizar outros arquivos além dos disponibilizados.\n\n- Excluir linhas do Boletim de Soluções.\n\n- Apresentar erros no código.\n\n- Compartilhar arquivos/código.\n\n",
      "metadata": {
        "id": "b7ea7963",
        "tags": []
      }
    },
    {
      "id": "36198ce5",
      "cell_type": "markdown",
      "source": "# Desafio Ciência de Dados\n\nNos últimos tempos, o Banco do Brasil tem enfrentado um desafio crescente: a migração de clientes que optam por realizar a portabilidade de salário para outras instituições financeiras. Esta tendência de saída, conhecida internamente como \"Lob Vai\", não só reduz nossa base de clientes, mas também impacta diretamente nossa receita e reputação no mercado.\n\nPara enfrentar esse desafio de maneira eficaz, lançamos um desafio analítico com o objetivo de desenvolver um modelo preditivo que consiga identificar quais clientes estão mais propensos a migrar para outros bancos. O intuito é permitir que possamos agir proativamente, oferecendo estratégias de retenção personalizadas, melhorando nossos serviços e fortalecendo a relação com nossos clientes.\n\nPara este desafio, você receberá um arquivo CSV contendo dados abrangentes dos clientes, incluindo informações demográficas, comportamentais e transacionais, além de uma variável que indica se o cliente optou ou não pela portabilidade de salário. Seu objetivo é realizar uma análise completa, desde a visualização dos dados até a construção e validação do modelo preditivo.\n\nOs participantes devem entregar um Jupyter Notebook no formato .ipynb, documentando todas as etapas do processo de modelagem. Isso inclui:\n\n1. **Exploração e Visualização dos Dados:** Analisar e visualizar os dados para entender padrões e identificar possíveis relações entre as variáveis.\n\n2. **Pré-processamento dos Dados:** Limpeza e transformação dos dados, tratando valores ausentes, outliers e normalizando variáveis, se necessário.\n\n3. **Seleção e Construção do Modelo:** Escolha de algoritmos de aprendizado de máquina apropriados e construção do modelo preditivo.\n\n4. **Treinamento e Validação do Modelo:** Divisão dos dados em conjuntos de treino e teste, treinamento do modelo e avaliação de seu desempenho utilizando métricas adequadas.\n\n5. **Interpretação dos Resultados e Ajustes Finais:** Análise dos resultados, ajuste dos hiperparâmetros e validação do modelo para garantir sua eficácia e precisão.\n\nEste é um momento crucial para demonstrar suas habilidades analíticas e de modelagem preditiva em um contexto real e de grande importância para o Banco do Brasil. Estamos ansiosos para ver suas soluções inovadoras e eficazes que nos ajudarão a reter nossos valiosos clientes e garantir o crescimento sustentável do banco.\n\n# Metadados dos Atributos\n\n| Campo          | Descrição                                                                                                               | Tipo de Dado | Exemplo       |\n|----------------|-------------------------------------------------------------------------------------------------------------------------|--------------|---------------|\n| IDFR           | Número identificador do cliente/Identificador único do cliente.                                                         | Numérico     | 1234          |\n| DT_REF         | Data de referência do registro.                                                                                         | Data         | 2024-07-22    |\n| IN_EVS         | Indicador de evasão (Código Indicador de evasão do cliente).                                                            | Binário      | 1             |\n| EST_CVL        | Estado civil do cliente.                                                                                                | Categórico   | Casado        |\n| CLS_GNR        | Classificação de gênero do cliente.                                                                                     | Categórico   | F             |\n| RGAO_GEO       | Região geográfica do cliente.                                                                                           | Categórico   | Sudeste       |\n| SGM_CLI        | Código do Perfil de Segmentação do Cliente Categorizada.                                                                | Categórico   | Varejo        |\n| VL_SLR_MSL     | Valor do salário mensal do cliente.                                                                                     | Numérico     | 3500.50       |\n| QT_PRD_COM_BB  | Quantidade de produtos do cliente com o Banco do Brasil.                                                                | Numérico     | 3             |\n| TMP_RLC_COM_BB | Tempo de relacionamento com o Banco do Brasil em anos.                                                                  | Numérico     | 5             |\n| CTGR_MC_EPGR   | Categoria de Mercado do Empregador.                                                                                     | Categórico   | Atacado       |\n| RAMO_MC_EPGR   | Ramo de Mercado do Empregador.                                                                                          | Categórico   | Comércio      |\n| NM_CTRA        | Nome da Carteira do cliente no domínio do Banco do Brasil.                                                              | Categórico   | Contrato_1234 |\n| VL_CST_SVR     | Valor do custo de servir de cada cliente. Custo de interação direta e indireta que o cliente realiza com o BB.          | Numérico     | 150.75        |\n| FXA_IDD        | Código da Faixa de Idade do Cliente. Intervalos de idade, em anos, para agrupamento de clientes em diferentes gerações. | Categórico   | 20-29         |\n| QT_RCLM_CLI    | Quantidade de reclamações feitas pelo cliente no último trimestre.                                                      | Numérico     | 2             |\n| PRI_ATDT_CLI   | Indicador de priorização de atendimento. Exemplo: 1 = Priorizado; 0 = Não Priorizado.                                   | Numérico     | 1             |",
      "metadata": {
        "id": "36198ce5"
      }
    },
    {
      "id": "04badf48",
      "cell_type": "markdown",
      "source": "# Importar bibliotecas\n\nUse esse espaço para importar as bibliotecas necessárias para execução do seu notebook.",
      "metadata": {
        "id": "04badf48",
        "tags": []
      }
    },
    {
      "id": "acb74ee3-845f-4fb5-8c79-2ac89bef470e",
      "cell_type": "code",
      "source": "import pandas as pd\nimport numpy as np",
      "metadata": {
        "id": "acb74ee3-845f-4fb5-8c79-2ac89bef470e",
        "trusted": true
      },
      "outputs": [],
      "execution_count": 10
    },
    {
      "id": "6e6cba28",
      "cell_type": "markdown",
      "source": "# Exercício 1 - Importando os dados\n\nCriar um DataFrame chamado **exercicio1** com os seguintes atributos:\n\n|  | Atributo       | Descrição                             | Formato        | Tipo de Dado |\n|:-|:---------------|:--------------------------------------|:---------------|:-------------|\n|01| IDFR           | Identificador                         | int64          | Identificador|\n|02| DT_REF         | Data de Referência                    | datetime64     | Data         |\n|03| IN_EVS         | Indicador de Evasão                   | float64        | Binário      |\n|04| EST_CVL        | Estado Civil                          | object         | Categórico   |\n|05| CLS_GNR        | Classificação de Gênero               | object         | Categórico   |\n|06| RGAO_GEO       | Região Geográfica                     | object         | Categórico   |\n|07| SGM_CLI        | Segmento do Cliente                   | float64        | Categórico   |\n|08| VL_SLR_MSL     | Valor do Salário Mensal               | float64        | Numérico     |\n|09| QT_PRD_COM_BB  | Quantidade de Produtos com BB         | float64        | Numérico     |\n|10| TMP_RLC_COM_BB | Tempo de relacionamento com BB        | float64        | Numérico     |\n|11| CTGR_MC_EPGR   | Categoria de Mercado do Empregador    | object         | Categórico   |\n|12| RAMO_MC_EPGR   | Ramo de Mercado do Empregador         | object         | Categórico   |\n|13| NM_CTRA        | Nome da Carteira                      | object         | Categórico   |\n|14| VL_CST_SVR     | Valor do Custo de Servir              | float64        | Numérico     |\n|15| FXA_IDD        | Faixa de Idade                        | object         | Categórico   |\n|16| QT_RCLM_CLI    | Quantidade de Reclamações do Cliente  | float64        | Numérico     |\n|17| PRI_ATDT_CLI   | Priorização do Atendimento do Cliente | float64        | Binário      |\n\n**Regra 1:** Transforme o Atributo de Data de Referência em Datetime.\n\n\nAtenção, o arquivo de dados será fornecido junto com esse caderno. Lembre-se de verificar o caminho para a importação dos dados. **Não altere a ordem das colunas obtidas**.\n    \nOs dados devem manter a estrutura da pasta, ou seja, o arquivo deve estar em uma pasta chamada `bases` na mesma pasta que o caderno do desafio. Por exemplo, se o projeto estiver sendo desenvolvido na pasta `desafio`, o caderno deve estar na pasta `desafio`, e dentro dessa pasta, deve haver outra chamada `bases` contendo o arquivo CSV.",
      "metadata": {
        "id": "6e6cba28"
      }
    },
    {
      "id": "53575799-dd9a-487d-b7dc-a067a4a2e17f",
      "cell_type": "code",
      "source": "exercicio1 = pd.read_csv('bases/ds_dataset_001.csv', sep=';')",
      "metadata": {
        "id": "53575799-dd9a-487d-b7dc-a067a4a2e17f",
        "trusted": true
      },
      "outputs": [],
      "execution_count": 11
    },
    {
      "id": "eb7a70a1-abdc-4459-b76d-eb16499bcb77",
      "cell_type": "code",
      "source": "exercicio1.head()",
      "metadata": {
        "trusted": true
      },
      "outputs": [
        {
          "execution_count": 12,
          "output_type": "execute_result",
          "data": {
            "text/plain": "    IDFR      DT_REF  IN_EVS   EST_CVL CLS_GNR RGAO_GEO  SGM_CLI  VL_SLR_MSL  \\\n0  11155  2023-10-01     1.0  SOLTEIRO       M      SUL      3.0      1650.0   \n1  11288  2023-11-01     0.0  SOLTEIRO       M  SUDESTE      2.0      4690.0   \n2  10570  2023-12-01     0.0  SOLTEIRO       F      SUL      4.0      3140.0   \n3   6891  2023-10-01     0.0  SOLTEIRO       M    NORTE      3.0       580.0   \n4   9486  2023-12-01     1.0  SOLTEIRO       M  SUDESTE      3.0      3110.0   \n\n   QT_PRD_COM_BB  TMP_RLC_COM_BB CTGR_MC_EPGR RAMO_MC_EPGR        NM_CTRA  \\\n0            4.0             0.0       VAREJO    INDUSTRIA       NEGOCIAL   \n1            7.0             2.0       VAREJO     SERVICOS       NEGOCIAL   \n2            5.0             4.0       VAREJO     COMERCIO       NEGOCIAL   \n3            6.0             3.0      ATACADO    INDUSTRIA  PERSONALIZADO   \n4           13.0             1.0       VAREJO    INDUSTRIA        PRIVATE   \n\n   VL_CST_SVR FXA_IDD  QT_RCLM_CLI  PRI_ATDT_CLI  \n0        5.72   30-39          NaN           0.0  \n1       21.83   50-59          NaN           0.0  \n2       58.38   20-29          9.0           1.0  \n3        9.00   20-29          NaN           0.0  \n4      169.57   20-29          NaN           0.0  ",
            "text/html": "<div>\n<style scoped>\n    .dataframe tbody tr th:only-of-type {\n        vertical-align: middle;\n    }\n\n    .dataframe tbody tr th {\n        vertical-align: top;\n    }\n\n    .dataframe thead th {\n        text-align: right;\n    }\n</style>\n<table border=\"1\" class=\"dataframe\">\n  <thead>\n    <tr style=\"text-align: right;\">\n      <th></th>\n      <th>IDFR</th>\n      <th>DT_REF</th>\n      <th>IN_EVS</th>\n      <th>EST_CVL</th>\n      <th>CLS_GNR</th>\n      <th>RGAO_GEO</th>\n      <th>SGM_CLI</th>\n      <th>VL_SLR_MSL</th>\n      <th>QT_PRD_COM_BB</th>\n      <th>TMP_RLC_COM_BB</th>\n      <th>CTGR_MC_EPGR</th>\n      <th>RAMO_MC_EPGR</th>\n      <th>NM_CTRA</th>\n      <th>VL_CST_SVR</th>\n      <th>FXA_IDD</th>\n      <th>QT_RCLM_CLI</th>\n      <th>PRI_ATDT_CLI</th>\n    </tr>\n  </thead>\n  <tbody>\n    <tr>\n      <th>0</th>\n      <td>11155</td>\n      <td>2023-10-01</td>\n      <td>1.0</td>\n      <td>SOLTEIRO</td>\n      <td>M</td>\n      <td>SUL</td>\n      <td>3.0</td>\n      <td>1650.0</td>\n      <td>4.0</td>\n      <td>0.0</td>\n      <td>VAREJO</td>\n      <td>INDUSTRIA</td>\n      <td>NEGOCIAL</td>\n      <td>5.72</td>\n      <td>30-39</td>\n      <td>NaN</td>\n      <td>0.0</td>\n    </tr>\n    <tr>\n      <th>1</th>\n      <td>11288</td>\n      <td>2023-11-01</td>\n      <td>0.0</td>\n      <td>SOLTEIRO</td>\n      <td>M</td>\n      <td>SUDESTE</td>\n      <td>2.0</td>\n      <td>4690.0</td>\n      <td>7.0</td>\n      <td>2.0</td>\n      <td>VAREJO</td>\n      <td>SERVICOS</td>\n      <td>NEGOCIAL</td>\n      <td>21.83</td>\n      <td>50-59</td>\n      <td>NaN</td>\n      <td>0.0</td>\n    </tr>\n    <tr>\n      <th>2</th>\n      <td>10570</td>\n      <td>2023-12-01</td>\n      <td>0.0</td>\n      <td>SOLTEIRO</td>\n      <td>F</td>\n      <td>SUL</td>\n      <td>4.0</td>\n      <td>3140.0</td>\n      <td>5.0</td>\n      <td>4.0</td>\n      <td>VAREJO</td>\n      <td>COMERCIO</td>\n      <td>NEGOCIAL</td>\n      <td>58.38</td>\n      <td>20-29</td>\n      <td>9.0</td>\n      <td>1.0</td>\n    </tr>\n    <tr>\n      <th>3</th>\n      <td>6891</td>\n      <td>2023-10-01</td>\n      <td>0.0</td>\n      <td>SOLTEIRO</td>\n      <td>M</td>\n      <td>NORTE</td>\n      <td>3.0</td>\n      <td>580.0</td>\n      <td>6.0</td>\n      <td>3.0</td>\n      <td>ATACADO</td>\n      <td>INDUSTRIA</td>\n      <td>PERSONALIZADO</td>\n      <td>9.00</td>\n      <td>20-29</td>\n      <td>NaN</td>\n      <td>0.0</td>\n    </tr>\n    <tr>\n      <th>4</th>\n      <td>9486</td>\n      <td>2023-12-01</td>\n      <td>1.0</td>\n      <td>SOLTEIRO</td>\n      <td>M</td>\n      <td>SUDESTE</td>\n      <td>3.0</td>\n      <td>3110.0</td>\n      <td>13.0</td>\n      <td>1.0</td>\n      <td>VAREJO</td>\n      <td>INDUSTRIA</td>\n      <td>PRIVATE</td>\n      <td>169.57</td>\n      <td>20-29</td>\n      <td>NaN</td>\n      <td>0.0</td>\n    </tr>\n  </tbody>\n</table>\n</div>"
          },
          "metadata": {}
        }
      ],
      "execution_count": 12
    },
    {
      "id": "78cebf3c-ae92-4c18-b30d-a4c983333157",
      "cell_type": "code",
      "source": "exercicio1['DT_REF'] = pd.to_datetime(exercicio1['DT_REF'])",
      "metadata": {
        "trusted": true
      },
      "outputs": [],
      "execution_count": 13
    },
    {
      "id": "e40dc875-e2a9-4154-9bbb-fc05cd6fcd2b",
      "cell_type": "code",
      "source": "exercicio1.info()",
      "metadata": {
        "trusted": true
      },
      "outputs": [
        {
          "name": "stdout",
          "text": "<class 'pandas.core.frame.DataFrame'>\nRangeIndex: 8156 entries, 0 to 8155\nData columns (total 17 columns):\n #   Column          Non-Null Count  Dtype         \n---  ------          --------------  -----         \n 0   IDFR            8156 non-null   int64         \n 1   DT_REF          8156 non-null   datetime64[ns]\n 2   IN_EVS          6496 non-null   float64       \n 3   EST_CVL         6496 non-null   object        \n 4   CLS_GNR         6496 non-null   object        \n 5   RGAO_GEO        6496 non-null   object        \n 6   SGM_CLI         6496 non-null   float64       \n 7   VL_SLR_MSL      6496 non-null   float64       \n 8   QT_PRD_COM_BB   7458 non-null   float64       \n 9   TMP_RLC_COM_BB  7458 non-null   float64       \n 10  CTGR_MC_EPGR    7458 non-null   object        \n 11  RAMO_MC_EPGR    7458 non-null   object        \n 12  NM_CTRA         8156 non-null   object        \n 13  VL_CST_SVR      7458 non-null   float64       \n 14  FXA_IDD         6496 non-null   object        \n 15  QT_RCLM_CLI     1134 non-null   float64       \n 16  PRI_ATDT_CLI    6496 non-null   float64       \ndtypes: datetime64[ns](1), float64(8), int64(1), object(7)\nmemory usage: 860.3+ KB\n",
          "output_type": "stream"
        }
      ],
      "execution_count": 14
    },
    {
      "id": "942e860c",
      "cell_type": "markdown",
      "source": "# Exercício 2 - Qualidade dos dados e identificação de valores nulos\nCriar um DataFrame Pandas chamado <b>exercicio2</b> com o percentual de nulos por coluna. Arredonde os valores em <b>três casas decimais</b>. O DataFrame deve conter dois atributos 'Atributo' e 'Percentual_Nulos'. Como o exemplo a seguir:\n\n| Atributo       | Percentual_Nulos |\n|----------------|------------------|\n| IDFR           | 0.0              |\n| DT_REF         | 0.0              |\n| IN_EVS         | 0.0              |\n| EST_CVL        | 0.122            |\n| CLS_GNR        | 0.203            |\n| RGAO_GEO       | 0.031            |\n| SGM_CLI        | 0.034            |\n| VL_SLR_MSL     | 0.0              |\n| QT_PRD_COM_BB  | 0.0              |\n| TMP_RLC_COM_BB | 0.342            |\n| CTGR_MC_EPGR   | 0.0              |\n| RAMO_MC_EPGR   | 0.0              |\n| NM_CTRA        | 0.0              |\n| VL_CST_SVR     | 0.0              |\n| FXA_IDD        | 0.0              |\n| QT_RCLM_CLI    | 0.0              |\n| PRI_ATDT_CLI   | 0.0              |\n\n**Obs.:** Os valores do exemplo são fícticios. <b>Lembrando que os valores não devem ser maiores que 1</b>.\n\n **Não altere a ordem das colunas obtidas**.\n\n**Regra 1:** Verificar o percentual de nulos por colunas\n\n**Regra 2:** Ao arredondar para o número de casas decimais desejado, utilizar a função `round()`, passando apenas como argumento o DataFrame a ser arredondado e o número de casas decimais.",
      "metadata": {
        "id": "942e860c"
      }
    },
    {
      "id": "d78ad8b6-1d05-4239-aeed-e8aae4932af1",
      "cell_type": "code",
      "source": "df2 = pd.read_csv('bases/ds_dataset_001.csv', sep=';')",
      "metadata": {
        "trusted": true
      },
      "outputs": [],
      "execution_count": 15
    },
    {
      "id": "f90f3baa-09a5-4886-8ca0-3675a327abfa",
      "cell_type": "raw",
      "source": "# Cálculo do percentual de nulos por coluna:",
      "metadata": {}
    },
    {
      "id": "ac97c155-09a5-4848-b086-89cc9da5f99c",
      "cell_type": "code",
      "source": "percentual_nulos = df2.isnull().mean()",
      "metadata": {
        "trusted": true
      },
      "outputs": [],
      "execution_count": 16
    },
    {
      "id": "2cdc3170-405d-4486-9144-4afee75da4e9",
      "cell_type": "raw",
      "source": "# Criação do DF exercicio2 com Atributo e Percentual de Nulos:",
      "metadata": {}
    },
    {
      "id": "80917724-432a-4839-beea-1c3758138a18",
      "cell_type": "code",
      "source": "exercicio2 = pd.DataFrame({\n    'Atributo': percentual_nulos.index,\n    'Percentual_Nulos': percentual_nulos.values\n})",
      "metadata": {
        "trusted": true
      },
      "outputs": [],
      "execution_count": 17
    },
    {
      "id": "05343e1c-2a98-4acd-b0a3-3dff1c16700a",
      "cell_type": "raw",
      "source": "# Arredondamento dos valores em três casas decimais:",
      "metadata": {}
    },
    {
      "id": "e3fc5959-b27d-46f0-8d1b-c5d7a0feb53a",
      "cell_type": "code",
      "source": "exercicio2['Percentual_Nulos'] = exercicio2['Percentual_Nulos'].round(3)\n",
      "metadata": {
        "trusted": true
      },
      "outputs": [],
      "execution_count": 18
    },
    {
      "id": "82689ebc-b024-4233-bb62-dbbf70ca8b37",
      "cell_type": "code",
      "source": "exercicio2.head(17)",
      "metadata": {
        "trusted": true
      },
      "outputs": [
        {
          "execution_count": 19,
          "output_type": "execute_result",
          "data": {
            "text/plain": "          Atributo  Percentual_Nulos\n0             IDFR             0.000\n1           DT_REF             0.000\n2           IN_EVS             0.204\n3          EST_CVL             0.204\n4          CLS_GNR             0.204\n5         RGAO_GEO             0.204\n6          SGM_CLI             0.204\n7       VL_SLR_MSL             0.204\n8    QT_PRD_COM_BB             0.086\n9   TMP_RLC_COM_BB             0.086\n10    CTGR_MC_EPGR             0.086\n11    RAMO_MC_EPGR             0.086\n12         NM_CTRA             0.000\n13      VL_CST_SVR             0.086\n14         FXA_IDD             0.204\n15     QT_RCLM_CLI             0.861\n16    PRI_ATDT_CLI             0.204",
            "text/html": "<div>\n<style scoped>\n    .dataframe tbody tr th:only-of-type {\n        vertical-align: middle;\n    }\n\n    .dataframe tbody tr th {\n        vertical-align: top;\n    }\n\n    .dataframe thead th {\n        text-align: right;\n    }\n</style>\n<table border=\"1\" class=\"dataframe\">\n  <thead>\n    <tr style=\"text-align: right;\">\n      <th></th>\n      <th>Atributo</th>\n      <th>Percentual_Nulos</th>\n    </tr>\n  </thead>\n  <tbody>\n    <tr>\n      <th>0</th>\n      <td>IDFR</td>\n      <td>0.000</td>\n    </tr>\n    <tr>\n      <th>1</th>\n      <td>DT_REF</td>\n      <td>0.000</td>\n    </tr>\n    <tr>\n      <th>2</th>\n      <td>IN_EVS</td>\n      <td>0.204</td>\n    </tr>\n    <tr>\n      <th>3</th>\n      <td>EST_CVL</td>\n      <td>0.204</td>\n    </tr>\n    <tr>\n      <th>4</th>\n      <td>CLS_GNR</td>\n      <td>0.204</td>\n    </tr>\n    <tr>\n      <th>5</th>\n      <td>RGAO_GEO</td>\n      <td>0.204</td>\n    </tr>\n    <tr>\n      <th>6</th>\n      <td>SGM_CLI</td>\n      <td>0.204</td>\n    </tr>\n    <tr>\n      <th>7</th>\n      <td>VL_SLR_MSL</td>\n      <td>0.204</td>\n    </tr>\n    <tr>\n      <th>8</th>\n      <td>QT_PRD_COM_BB</td>\n      <td>0.086</td>\n    </tr>\n    <tr>\n      <th>9</th>\n      <td>TMP_RLC_COM_BB</td>\n      <td>0.086</td>\n    </tr>\n    <tr>\n      <th>10</th>\n      <td>CTGR_MC_EPGR</td>\n      <td>0.086</td>\n    </tr>\n    <tr>\n      <th>11</th>\n      <td>RAMO_MC_EPGR</td>\n      <td>0.086</td>\n    </tr>\n    <tr>\n      <th>12</th>\n      <td>NM_CTRA</td>\n      <td>0.000</td>\n    </tr>\n    <tr>\n      <th>13</th>\n      <td>VL_CST_SVR</td>\n      <td>0.086</td>\n    </tr>\n    <tr>\n      <th>14</th>\n      <td>FXA_IDD</td>\n      <td>0.204</td>\n    </tr>\n    <tr>\n      <th>15</th>\n      <td>QT_RCLM_CLI</td>\n      <td>0.861</td>\n    </tr>\n    <tr>\n      <th>16</th>\n      <td>PRI_ATDT_CLI</td>\n      <td>0.204</td>\n    </tr>\n  </tbody>\n</table>\n</div>"
          },
          "metadata": {}
        }
      ],
      "execution_count": 19
    },
    {
      "id": "620bf785",
      "cell_type": "markdown",
      "source": "# Exercício 3- Qualidade dos dados e tratamento de nulos\nCriar um DataFrame Pandas chamado <b>exercicio3</b> retirando as observações em que o alvo (ou target), Indicador de evasão, é nula, ou seja, será um filtro do DataFrame do Exercício 1.\n\n**Regra 1:** Remover as linhas em que Indicador de evasão é <b>nulo</b>.\n\nSegue abaixo exemplo do DataFrame com dados fícticios:\n\n|   IDFR | DT_REF              |   IN_EVS | EST_CVL   | CLS_GNR   | RGAO_GEO     |   SGM_CLI |   VL_SLR_MSL |   QT_PRD_COM_BB |   TMP_RLC_COM_BB | CTGR_MC_EPGR   | RAMO_MC_EPGR   | NM_CTRA   |   VL_CST_SVR | FXA_IDD   |   QT_RCLM_CLI |   PRI_ATDT_CLI |\n|-------:|:--------------------|---------:|:----------|:----------|:-------------|----------:|-------------:|----------------:|-----------------:|:---------------|:---------------|:----------|-------------:|:----------|--------------:|---------------:|\n|      1 | 2023-12-01 00:00:00 |        0 | SOLTEIRO  | M         | SUDESTE      |         3 |         1600 |               2 |               12 | ATACADO        | INDUSTRIA      | NEGOCIAL  |        28.00 | 30-39     |             0 |              0 |\n|      2 | 2023-10-01 00:00:00 |        0 | SOLTEIRO  | M         | SUL          |         1 |         2400 |               2 |               10 | ATACADO        | INDUSTRIA      | NEGOCIAL  |        39.00 | 30-39     |             0 |              0 |\n|      3 | 2023-11-01 00:00:00 |        0 | SOLTEIRO  | M         | SUDESTE      |         3 |         3200 |              10 |               12 | VAREJO         | SERVICOS       | NEGOCIAL  |        81.00 | 30-39     |             0 |              0 |\n|      5 | 2023-11-01 00:00:00 |        1 | SOLTEIRO  | F         | SUL          |         4 |         5000 |               2 |                2 | ATACADO        | INDUSTRIA      | NEGOCIAL  |       100.00 | 30-39     |             0 |              0 |\n|      6 | 2023-10-01 00:00:00 |        0 | SOLTEIRO  | M         | CENTRO-OESTE |         2 |         5100 |              10 |                8 | ATACADO        | INDUSTRIA      | NEGOCIAL  |       100.00 | 30-39     |             0 |              0 |\n\n\n",
      "metadata": {
        "id": "620bf785"
      }
    },
    {
      "id": "25c186f6-7dce-42d5-a6ab-1b3ee1b0ecdd",
      "cell_type": "raw",
      "source": "#Ler o arquivo e armazemar em um DataFrame chamado de df3:",
      "metadata": {}
    },
    {
      "id": "b923027b-39dd-4be0-b770-e0594ee70729",
      "cell_type": "code",
      "source": "df3= pd.read_csv('bases/ds_dataset_001.csv', sep=';')",
      "metadata": {
        "id": "762e2a64-431f-413a-b58f-2a8cb3f60e68",
        "trusted": true
      },
      "outputs": [],
      "execution_count": 20
    },
    {
      "id": "b0b4efaf-5656-4765-9be1-9867266cdbb1",
      "cell_type": "code",
      "source": "# Filtro das linhas onde o alvo \"Indicador de Evasão não é nulo:",
      "metadata": {
        "trusted": true
      },
      "outputs": [],
      "execution_count": 21
    },
    {
      "id": "f77c0447-9a68-48f0-8ad2-66d0cfa46604",
      "cell_type": "code",
      "source": "exercicio3 = df3[df3['IN_EVS'].notnull()]",
      "metadata": {
        "trusted": true
      },
      "outputs": [],
      "execution_count": 22
    },
    {
      "id": "35ea6d4a-da31-42a2-b634-94806d5e8857",
      "cell_type": "code",
      "source": "exercicio3.head()",
      "metadata": {
        "trusted": true
      },
      "outputs": [
        {
          "execution_count": 23,
          "output_type": "execute_result",
          "data": {
            "text/plain": "    IDFR      DT_REF  IN_EVS   EST_CVL CLS_GNR RGAO_GEO  SGM_CLI  VL_SLR_MSL  \\\n0  11155  2023-10-01     1.0  SOLTEIRO       M      SUL      3.0      1650.0   \n1  11288  2023-11-01     0.0  SOLTEIRO       M  SUDESTE      2.0      4690.0   \n2  10570  2023-12-01     0.0  SOLTEIRO       F      SUL      4.0      3140.0   \n3   6891  2023-10-01     0.0  SOLTEIRO       M    NORTE      3.0       580.0   \n4   9486  2023-12-01     1.0  SOLTEIRO       M  SUDESTE      3.0      3110.0   \n\n   QT_PRD_COM_BB  TMP_RLC_COM_BB CTGR_MC_EPGR RAMO_MC_EPGR        NM_CTRA  \\\n0            4.0             0.0       VAREJO    INDUSTRIA       NEGOCIAL   \n1            7.0             2.0       VAREJO     SERVICOS       NEGOCIAL   \n2            5.0             4.0       VAREJO     COMERCIO       NEGOCIAL   \n3            6.0             3.0      ATACADO    INDUSTRIA  PERSONALIZADO   \n4           13.0             1.0       VAREJO    INDUSTRIA        PRIVATE   \n\n   VL_CST_SVR FXA_IDD  QT_RCLM_CLI  PRI_ATDT_CLI  \n0        5.72   30-39          NaN           0.0  \n1       21.83   50-59          NaN           0.0  \n2       58.38   20-29          9.0           1.0  \n3        9.00   20-29          NaN           0.0  \n4      169.57   20-29          NaN           0.0  ",
            "text/html": "<div>\n<style scoped>\n    .dataframe tbody tr th:only-of-type {\n        vertical-align: middle;\n    }\n\n    .dataframe tbody tr th {\n        vertical-align: top;\n    }\n\n    .dataframe thead th {\n        text-align: right;\n    }\n</style>\n<table border=\"1\" class=\"dataframe\">\n  <thead>\n    <tr style=\"text-align: right;\">\n      <th></th>\n      <th>IDFR</th>\n      <th>DT_REF</th>\n      <th>IN_EVS</th>\n      <th>EST_CVL</th>\n      <th>CLS_GNR</th>\n      <th>RGAO_GEO</th>\n      <th>SGM_CLI</th>\n      <th>VL_SLR_MSL</th>\n      <th>QT_PRD_COM_BB</th>\n      <th>TMP_RLC_COM_BB</th>\n      <th>CTGR_MC_EPGR</th>\n      <th>RAMO_MC_EPGR</th>\n      <th>NM_CTRA</th>\n      <th>VL_CST_SVR</th>\n      <th>FXA_IDD</th>\n      <th>QT_RCLM_CLI</th>\n      <th>PRI_ATDT_CLI</th>\n    </tr>\n  </thead>\n  <tbody>\n    <tr>\n      <th>0</th>\n      <td>11155</td>\n      <td>2023-10-01</td>\n      <td>1.0</td>\n      <td>SOLTEIRO</td>\n      <td>M</td>\n      <td>SUL</td>\n      <td>3.0</td>\n      <td>1650.0</td>\n      <td>4.0</td>\n      <td>0.0</td>\n      <td>VAREJO</td>\n      <td>INDUSTRIA</td>\n      <td>NEGOCIAL</td>\n      <td>5.72</td>\n      <td>30-39</td>\n      <td>NaN</td>\n      <td>0.0</td>\n    </tr>\n    <tr>\n      <th>1</th>\n      <td>11288</td>\n      <td>2023-11-01</td>\n      <td>0.0</td>\n      <td>SOLTEIRO</td>\n      <td>M</td>\n      <td>SUDESTE</td>\n      <td>2.0</td>\n      <td>4690.0</td>\n      <td>7.0</td>\n      <td>2.0</td>\n      <td>VAREJO</td>\n      <td>SERVICOS</td>\n      <td>NEGOCIAL</td>\n      <td>21.83</td>\n      <td>50-59</td>\n      <td>NaN</td>\n      <td>0.0</td>\n    </tr>\n    <tr>\n      <th>2</th>\n      <td>10570</td>\n      <td>2023-12-01</td>\n      <td>0.0</td>\n      <td>SOLTEIRO</td>\n      <td>F</td>\n      <td>SUL</td>\n      <td>4.0</td>\n      <td>3140.0</td>\n      <td>5.0</td>\n      <td>4.0</td>\n      <td>VAREJO</td>\n      <td>COMERCIO</td>\n      <td>NEGOCIAL</td>\n      <td>58.38</td>\n      <td>20-29</td>\n      <td>9.0</td>\n      <td>1.0</td>\n    </tr>\n    <tr>\n      <th>3</th>\n      <td>6891</td>\n      <td>2023-10-01</td>\n      <td>0.0</td>\n      <td>SOLTEIRO</td>\n      <td>M</td>\n      <td>NORTE</td>\n      <td>3.0</td>\n      <td>580.0</td>\n      <td>6.0</td>\n      <td>3.0</td>\n      <td>ATACADO</td>\n      <td>INDUSTRIA</td>\n      <td>PERSONALIZADO</td>\n      <td>9.00</td>\n      <td>20-29</td>\n      <td>NaN</td>\n      <td>0.0</td>\n    </tr>\n    <tr>\n      <th>4</th>\n      <td>9486</td>\n      <td>2023-12-01</td>\n      <td>1.0</td>\n      <td>SOLTEIRO</td>\n      <td>M</td>\n      <td>SUDESTE</td>\n      <td>3.0</td>\n      <td>3110.0</td>\n      <td>13.0</td>\n      <td>1.0</td>\n      <td>VAREJO</td>\n      <td>INDUSTRIA</td>\n      <td>PRIVATE</td>\n      <td>169.57</td>\n      <td>20-29</td>\n      <td>NaN</td>\n      <td>0.0</td>\n    </tr>\n  </tbody>\n</table>\n</div>"
          },
          "metadata": {}
        }
      ],
      "execution_count": 23
    },
    {
      "id": "570c8c15",
      "cell_type": "markdown",
      "source": "# Exercício 4 - Obtenção das informações de estatística descritiva\n\nA partir do DataFrame criado no <b>exercicio3</b>, crie um DataFrame Pandas chamado <b>exercicio4</b> com as informações de Estatística Descritiva das <b>Variáveis Quantitativas Contínuas</b>. Arredonde os valores em <b>duas casas decimais.</b>\n\nAs Estatísticas Descritivas serão o Contador, Média, Desvio Padrão, Mínimo, 1º Quartil, Mediana, 3º Quartil e Máximo.\n\nO DataFrame deve ter os atributos com os nomes da colunas e seu índice (index) deve ser 'count', 'mean', 'std', 'min', '25%', '50%', '75%', 'max'. Segue um exemplo do DataFrame:\n\n|       |   VL_SLR_MSL |   QT_PRD_COM_BB |   TMP_RLC_COM_BB |   VL_CST_SVR |   QT_RCLM_CLI |\n|:------|-------------:|----------------:|-----------------:|-------------:|--------------:|\n| count |      ?       |      ?          |       ?          |    ?         |    ?          |\n| mean  |      ?       |      ?          |       ?          |    ?         |    ?          |\n| std   |      ?       |      ?          |       ?          |    ?         |    ?          |\n| min   |      ?       |      ?          |       ?          |    ?         |    ?          |\n| 25%   |      ?       |      ?          |       ?          |    ?         |    ?          |\n| 50%   |      ?       |      ?          |       ?          |    ?         |    ?          |\n| 75%   |      ?       |      ?          |       ?          |    ?         |    ?          |\n| max   |      ?       |      ?          |       ?          |    ?         |    ?          |\n\n**Regra 1:** Ao arredondar para o número de casas decimais desejado, utilizar a função `round()`, passando apenas como argumento o DataFrame a ser arredondado e o número de casas decimais.",
      "metadata": {
        "id": "570c8c15"
      }
    },
    {
      "id": "30960f6f-0820-44e9-b522-2017c164436f",
      "cell_type": "code",
      "source": "df4_clone = exercicio3.copy()",
      "metadata": {
        "trusted": true
      },
      "outputs": [],
      "execution_count": 24
    },
    {
      "id": "9f5516b8-6a72-4a92-9f36-d14954a1fe26",
      "cell_type": "code",
      "source": "exercicio4 = df4_clone.describe().round(2)\n",
      "metadata": {
        "trusted": true
      },
      "outputs": [],
      "execution_count": 27
    },
    {
      "id": "266ca972-664e-4623-8a2c-bcc4eb016c7c",
      "cell_type": "code",
      "source": "# Selecinado apenas as colunas quantitativas contínuas:",
      "metadata": {
        "trusted": true
      },
      "outputs": [],
      "execution_count": null
    },
    {
      "id": "e238e704-853e-4343-b0d8-9abbabc4308c",
      "cell_type": "code",
      "source": "quantitative_columns = ['VL_SLR_MSL', 'QT_PRD_COM_BB', 'TMP_RLC_COM_BB', 'VL_CST_SVR', 'QT_RCLM_CLI']",
      "metadata": {
        "trusted": true
      },
      "outputs": [],
      "execution_count": 31
    },
    {
      "id": "2a6e1a13-7058-439c-9ed1-91a5d006183d",
      "cell_type": "code",
      "source": "exercicio4 = df4_clone[quantitative_columns].describe().round(2)",
      "metadata": {
        "trusted": true
      },
      "outputs": [],
      "execution_count": 32
    },
    {
      "id": "dbade8fa-2607-4ea3-94f7-31cde4c0685f",
      "cell_type": "code",
      "source": "exercicio4.head(10)",
      "metadata": {
        "trusted": true
      },
      "outputs": [
        {
          "execution_count": 34,
          "output_type": "execute_result",
          "data": {
            "text/plain": "       VL_SLR_MSL  QT_PRD_COM_BB  TMP_RLC_COM_BB  VL_CST_SVR  QT_RCLM_CLI\ncount     6496.00        6496.00         6496.00     6496.00      1134.00\nmean      3451.62           7.67           10.25       63.03         2.21\nstd       2241.16           5.61           10.45       67.82         6.11\nmin          0.00           0.00            0.00        0.00         0.00\n25%       1800.00           4.00            1.00       14.59         0.00\n50%       2770.00           6.00            9.00       33.02         0.00\n75%       4650.00           9.00           16.00       91.60         1.00\nmax      10000.00          67.00           73.00      299.78        55.00",
            "text/html": "<div>\n<style scoped>\n    .dataframe tbody tr th:only-of-type {\n        vertical-align: middle;\n    }\n\n    .dataframe tbody tr th {\n        vertical-align: top;\n    }\n\n    .dataframe thead th {\n        text-align: right;\n    }\n</style>\n<table border=\"1\" class=\"dataframe\">\n  <thead>\n    <tr style=\"text-align: right;\">\n      <th></th>\n      <th>VL_SLR_MSL</th>\n      <th>QT_PRD_COM_BB</th>\n      <th>TMP_RLC_COM_BB</th>\n      <th>VL_CST_SVR</th>\n      <th>QT_RCLM_CLI</th>\n    </tr>\n  </thead>\n  <tbody>\n    <tr>\n      <th>count</th>\n      <td>6496.00</td>\n      <td>6496.00</td>\n      <td>6496.00</td>\n      <td>6496.00</td>\n      <td>1134.00</td>\n    </tr>\n    <tr>\n      <th>mean</th>\n      <td>3451.62</td>\n      <td>7.67</td>\n      <td>10.25</td>\n      <td>63.03</td>\n      <td>2.21</td>\n    </tr>\n    <tr>\n      <th>std</th>\n      <td>2241.16</td>\n      <td>5.61</td>\n      <td>10.45</td>\n      <td>67.82</td>\n      <td>6.11</td>\n    </tr>\n    <tr>\n      <th>min</th>\n      <td>0.00</td>\n      <td>0.00</td>\n      <td>0.00</td>\n      <td>0.00</td>\n      <td>0.00</td>\n    </tr>\n    <tr>\n      <th>25%</th>\n      <td>1800.00</td>\n      <td>4.00</td>\n      <td>1.00</td>\n      <td>14.59</td>\n      <td>0.00</td>\n    </tr>\n    <tr>\n      <th>50%</th>\n      <td>2770.00</td>\n      <td>6.00</td>\n      <td>9.00</td>\n      <td>33.02</td>\n      <td>0.00</td>\n    </tr>\n    <tr>\n      <th>75%</th>\n      <td>4650.00</td>\n      <td>9.00</td>\n      <td>16.00</td>\n      <td>91.60</td>\n      <td>1.00</td>\n    </tr>\n    <tr>\n      <th>max</th>\n      <td>10000.00</td>\n      <td>67.00</td>\n      <td>73.00</td>\n      <td>299.78</td>\n      <td>55.00</td>\n    </tr>\n  </tbody>\n</table>\n</div>"
          },
          "metadata": {}
        }
      ],
      "execution_count": 34
    },
    {
      "id": "8cc3d448",
      "cell_type": "markdown",
      "source": "# Exercício 5 - Agrupamentos dos dados\n\nA partir do DataFrame criado no <b>exercicio3</b>, crie um DataFrame Pandas chamado <b>exercicio5</b> com a frequência absoluta da coluna alvo, Indicador de evasão.\n\nO DataFrame deve conter uma coluna com nome de Indicador de evasão e índice (index) '0' e '1'. Segue abaixo um exemplo:\n\n|    |   IN_EVS |\n|---:|---------:|\n|  0 |     ?    |\n|  1 |     ?    |\n\n",
      "metadata": {
        "id": "8cc3d448"
      }
    },
    {
      "id": "e8bf77c5-364c-4e51-a76f-4d37a1670995",
      "cell_type": "code",
      "source": "df5_clone = exercicio3.copy()",
      "metadata": {
        "id": "e8bf77c5-364c-4e51-a76f-4d37a1670995",
        "trusted": true
      },
      "outputs": [],
      "execution_count": 35
    },
    {
      "id": "594f0919-fba6-4a90-a4e6-ef420d704327",
      "cell_type": "code",
      "source": "# Cálculo da frequência absoluta da coluna alvo:",
      "metadata": {
        "trusted": true
      },
      "outputs": [],
      "execution_count": 39
    },
    {
      "id": "30b89a6a-a95c-47e5-ac09-9f7fb766b6cc",
      "cell_type": "code",
      "source": "frequencia_absoluta = df5_clone['IN_EVS'].value_counts().sort_index()",
      "metadata": {
        "trusted": true
      },
      "outputs": [],
      "execution_count": 36
    },
    {
      "id": "954ae3a4-cf8d-415c-a99f-f192b1239b35",
      "cell_type": "code",
      "source": "# Criando DF exercicio5:",
      "metadata": {
        "trusted": true
      },
      "outputs": [],
      "execution_count": 40
    },
    {
      "id": "e94600e7-c538-4aa0-86bf-80901b97559c",
      "cell_type": "code",
      "source": "exercicio5 = pd.DataFrame({'IN_EVS': frequencia_absoluta})",
      "metadata": {
        "trusted": true
      },
      "outputs": [],
      "execution_count": 37
    },
    {
      "id": "cdd387ee-c515-4e13-9899-b4670fcc3840",
      "cell_type": "code",
      "source": "exercicio5.head()",
      "metadata": {
        "trusted": true
      },
      "outputs": [
        {
          "execution_count": 38,
          "output_type": "execute_result",
          "data": {
            "text/plain": "     IN_EVS\n0.0    4686\n1.0    1810",
            "text/html": "<div>\n<style scoped>\n    .dataframe tbody tr th:only-of-type {\n        vertical-align: middle;\n    }\n\n    .dataframe tbody tr th {\n        vertical-align: top;\n    }\n\n    .dataframe thead th {\n        text-align: right;\n    }\n</style>\n<table border=\"1\" class=\"dataframe\">\n  <thead>\n    <tr style=\"text-align: right;\">\n      <th></th>\n      <th>IN_EVS</th>\n    </tr>\n  </thead>\n  <tbody>\n    <tr>\n      <th>0.0</th>\n      <td>4686</td>\n    </tr>\n    <tr>\n      <th>1.0</th>\n      <td>1810</td>\n    </tr>\n  </tbody>\n</table>\n</div>"
          },
          "metadata": {}
        }
      ],
      "execution_count": 38
    },
    {
      "id": "245dd1d5",
      "cell_type": "markdown",
      "source": "# Exercício 6 - Obtendo dados de correlação\n\nA partir do <b>exercicio3</b>, crie um DataFrame chamado <b>exercicio6</b> com as correlações de pearson da <b>variáveis quantitativas contínuas</b>. Arredonde os valores em <b>duas casas decimais.</b>\n\nO DataFrame deve ter as colunas:\n- Valor do Salário Mensal\n- Quantidade de Produtos com o BB\n- Tempo de Relacionamento com o BB\n- Valor do Custo de Servir\n- Quantidade de Reclamações do Cliente\n\nO índice (index) deve conter os mesmos nomes dos atributos mencionados acima. Segue abaixo um exemplo:\n\n|                |   VL_SLR_MSL |   QT_PRD_COM_BB |   TMP_RLC_COM_BB |   VL_CST_SVR |   QT_RCLM_CLI |\n|:---------------|-------------:|----------------:|-----------------:|-------------:|--------------:|\n| VL_SLR_MSL     |   ?          |  ?              |    ?             |   ?          |   ?           |\n| QT_PRD_COM_BB  |   ?          |  ?              |    ?             |   ?          |   ?           |\n| TMP_RLC_COM_BB |   ?          |  ?              |    ?             |   ?          |   ?           |\n| VL_CST_SVR     |   ?          |  ?              |    ?             |   ?          |   ?           |\n| QT_RCLM_CLI    |   ?          |  ?              |    ?             |   ?          |   ?           |\n",
      "metadata": {
        "id": "245dd1d5"
      }
    },
    {
      "id": "d14a58da-6ae2-44da-a907-dd8b2dddbf7b",
      "cell_type": "code",
      "source": "# Clonando exercicio3:",
      "metadata": {
        "trusted": true
      },
      "outputs": [],
      "execution_count": 51
    },
    {
      "id": "253ecd46-635e-4c02-8d03-cc16ee0d762b",
      "cell_type": "code",
      "source": "df6_clone = exercicio3.copy()",
      "metadata": {
        "id": "253ecd46-635e-4c02-8d03-cc16ee0d762b",
        "trusted": true
      },
      "outputs": [],
      "execution_count": 45
    },
    {
      "id": "0f52bb4c-98df-46fb-8ede-b342830e20c9",
      "cell_type": "code",
      "source": "# Selecionando apenas as colunas quantitativas:",
      "metadata": {
        "trusted": true
      },
      "outputs": [],
      "execution_count": null
    },
    {
      "id": "8a6a753d-126e-4315-9591-83a310166b80",
      "cell_type": "code",
      "source": "colunas_quantitativas= ['VL_SLR_MSL', 'QT_PRD_COM_BB', 'TMP_RLC_COM_BB', 'VL_CST_SVR', 'QT_RCLM_CLI']",
      "metadata": {
        "trusted": true
      },
      "outputs": [],
      "execution_count": 46
    },
    {
      "id": "fca258f0-8612-4c83-9c35-abbaa7ee95e1",
      "cell_type": "code",
      "source": "df_quantitativas = df6_clone[colunas_quantitativas]",
      "metadata": {
        "trusted": true
      },
      "outputs": [],
      "execution_count": 47
    },
    {
      "id": "0a00767c-689c-4da9-8276-842ed685912d",
      "cell_type": "code",
      "source": "# Cálculo da correlação de Pearson e arredondamento de valores (duas casas decimais):",
      "metadata": {
        "trusted": true
      },
      "outputs": [],
      "execution_count": null
    },
    {
      "id": "8a9c13fc-3a99-4150-aa6c-35b41c63840d",
      "cell_type": "code",
      "source": "exercicio6 = df_quantitativas.corr(method='pearson').round(2)",
      "metadata": {
        "trusted": true
      },
      "outputs": [],
      "execution_count": 48
    },
    {
      "id": "95557401-2926-4fae-9df8-13a3647c3fcb",
      "cell_type": "code",
      "source": "# Renomeando as colunas e o índice:",
      "metadata": {
        "trusted": true
      },
      "outputs": [],
      "execution_count": null
    },
    {
      "id": "5e2dbe71-ebee-446c-a1b5-98b572196327",
      "cell_type": "code",
      "source": "exercicio6.columns = quantitative_columns\nexercicio6.index = quantitative_columns",
      "metadata": {
        "trusted": true
      },
      "outputs": [],
      "execution_count": 49
    },
    {
      "id": "653890b1-162c-4444-a554-9b7628956ec4",
      "cell_type": "code",
      "source": "exercicio6.head()",
      "metadata": {
        "trusted": true
      },
      "outputs": [
        {
          "execution_count": 50,
          "output_type": "execute_result",
          "data": {
            "text/plain": "                VL_SLR_MSL  QT_PRD_COM_BB  TMP_RLC_COM_BB  VL_CST_SVR  \\\nVL_SLR_MSL            1.00           0.35            0.38        0.34   \nQT_PRD_COM_BB         0.35           1.00            0.55        0.54   \nTMP_RLC_COM_BB        0.38           0.55            1.00        0.41   \nVL_CST_SVR            0.34           0.54            0.41        1.00   \nQT_RCLM_CLI          -0.00          -0.04            0.02       -0.01   \n\n                QT_RCLM_CLI  \nVL_SLR_MSL            -0.00  \nQT_PRD_COM_BB         -0.04  \nTMP_RLC_COM_BB         0.02  \nVL_CST_SVR            -0.01  \nQT_RCLM_CLI            1.00  ",
            "text/html": "<div>\n<style scoped>\n    .dataframe tbody tr th:only-of-type {\n        vertical-align: middle;\n    }\n\n    .dataframe tbody tr th {\n        vertical-align: top;\n    }\n\n    .dataframe thead th {\n        text-align: right;\n    }\n</style>\n<table border=\"1\" class=\"dataframe\">\n  <thead>\n    <tr style=\"text-align: right;\">\n      <th></th>\n      <th>VL_SLR_MSL</th>\n      <th>QT_PRD_COM_BB</th>\n      <th>TMP_RLC_COM_BB</th>\n      <th>VL_CST_SVR</th>\n      <th>QT_RCLM_CLI</th>\n    </tr>\n  </thead>\n  <tbody>\n    <tr>\n      <th>VL_SLR_MSL</th>\n      <td>1.00</td>\n      <td>0.35</td>\n      <td>0.38</td>\n      <td>0.34</td>\n      <td>-0.00</td>\n    </tr>\n    <tr>\n      <th>QT_PRD_COM_BB</th>\n      <td>0.35</td>\n      <td>1.00</td>\n      <td>0.55</td>\n      <td>0.54</td>\n      <td>-0.04</td>\n    </tr>\n    <tr>\n      <th>TMP_RLC_COM_BB</th>\n      <td>0.38</td>\n      <td>0.55</td>\n      <td>1.00</td>\n      <td>0.41</td>\n      <td>0.02</td>\n    </tr>\n    <tr>\n      <th>VL_CST_SVR</th>\n      <td>0.34</td>\n      <td>0.54</td>\n      <td>0.41</td>\n      <td>1.00</td>\n      <td>-0.01</td>\n    </tr>\n    <tr>\n      <th>QT_RCLM_CLI</th>\n      <td>-0.00</td>\n      <td>-0.04</td>\n      <td>0.02</td>\n      <td>-0.01</td>\n      <td>1.00</td>\n    </tr>\n  </tbody>\n</table>\n</div>"
          },
          "metadata": {}
        }
      ],
      "execution_count": 50
    },
    {
      "id": "2df1a221",
      "cell_type": "markdown",
      "source": "# Exercício 7 - Criação de novas variáveis\n\nCrie um DataFrame Pandas chamado <b>exercicio7</b> com duas novas variáveis. Para criar o DataFrame utilize o <b>exercicio3</b> como base.\n\nSegue abaixo a descrição de cada variável:\n\n| Atributo | Descrição | Regra de apuração |\n|:---------|:----------|:------------------|\n|CD_IN_RCLM_CLI|Código Indicador de Reclamações do Cliente|Se a quantidade de Reclamações do Cliente for < 1 ou ausente, o valor será 0. Caso contrário, o valor será 1.|\n|CD_IN_SLR_MIN|Código Indicador de Salário Mínimo|Se o Valor do Salário Mensal for menor que R$ 1.412,00 (Valor do salário mínimo referente ao ano de 2024), o valor será 1. Caso contrário, o valor será 0.|\n\n\n\nSegue abaixo como seria o DataFrame com dados fícticios:\n\n|   IDFR | DT_REF              |   IN_EVS | EST_CVL   | CLS_GNR   | RGAO_GEO     |   SGM_CLI |   VL_SLR_MSL |   QT_PRD_COM_BB |   TMP_RLC_COM_BB | CTGR_MC_EPGR   | RAMO_MC_EPGR   | NM_CTRA   |   VL_CST_SVR | FXA_IDD   |   QT_RCLM_CLI |   PRI_ATDT_CLI |   CD_IN_RCLM_CLI |   CD_IN_SLR_MIN |\n|-------:|:--------------------|---------:|:----------|:----------|:-------------|----------:|-------------:|----------------:|-----------------:|:---------------|:---------------|:----------|-------------:|:----------|--------------:|---------------:|-----------------:|----------------:|\n|      1 | 2023-12-01 00:00:00 |        0 | SOLTEIRO  | M         | SUDESTE      |         3 |         1500 |               2 |               12 | ATACADO        | INDUSTRIA      | NEGOCIAL  |        28.00 | 30-39     |             0 |              0 |                0 |               0 |\n|      2 | 2023-10-01 00:00:00 |        0 | SOLTEIRO  | M         | SUL          |         1 |         2400 |               2 |               10 | ATACADO        | INDUSTRIA      | NEGOCIAL  |        39.00 | 30-39     |             0 |              0 |                0 |               0 |\n|      3 | 2023-11-01 00:00:00 |        0 | SOLTEIRO  | M         | SUDESTE      |         3 |         3200 |              10 |               12 | VAREJO         | SERVICOS       | NEGOCIAL  |        81.00 | 30-39     |             0 |              0 |                0 |               0 |\n|      5 | 2023-11-01 00:00:00 |        1 | SOLTEIRO  | F         | SUL          |         4 |         500 |               2 |                2 | ATACADO        | INDUSTRIA      | NEGOCIAL  |       100.00 | 30-39     |             0 |              0 |                0 |               1 |\n|      6 | 2023-10-01 00:00:00 |        0 | SOLTEIRO  | M         | CENTRO-OESTE |         2 |         1000 |              10 |                8 | ATACADO        | INDUSTRIA      | NEGOCIAL  |       100.00 | 30-39     |             0 |              0 |                0 |               1 |\n\n",
      "metadata": {
        "id": "2df1a221"
      }
    },
    {
      "id": "6b98a266-51ba-45f1-ba8c-bf3b2bcffe87",
      "cell_type": "code",
      "source": "# Clone do DF exercicio3",
      "metadata": {
        "trusted": true
      },
      "outputs": [],
      "execution_count": null
    },
    {
      "id": "b3fcccf2-d01c-40b6-8c70-8830a8126e29",
      "cell_type": "code",
      "source": "df7_clone = exercicio3.copy()",
      "metadata": {
        "id": "b3fcccf2-d01c-40b6-8c70-8830a8126e29",
        "trusted": true
      },
      "outputs": [],
      "execution_count": 52
    },
    {
      "id": "70d62135-5eef-4d95-b77c-386ea03ec1d3",
      "cell_type": "code",
      "source": "# Criação das novas variáveis:",
      "metadata": {
        "trusted": true
      },
      "outputs": [],
      "execution_count": null
    },
    {
      "id": "7760ba8c-2f25-4dcc-a8d8-377a4083b602",
      "cell_type": "raw",
      "source": "COLUNA CD_IN_RCLM_CLI\n\nCriar uma nova coluna chamada CD_IN_RCLM_CLI que indica se o cliente tem reclamações.\nSe a quantidade de reclamações (QT_RCLM_CLI) for maior ou igual a 1, o valor será 1. Caso contrário, o valor será 0.\n\n.apply lambda\nAplica uma função lambda a cada valor da coluna.\nA função lambda verifica se o valor é maior ou igual a 1 (x >= 1). Se for, retorna 1; caso contrário, retorna 0.\n\nCOLUNA CD_IN_SLR_MIN\nCriar uma nova coluna que indica se o salário mensal do cliente é menor que o salário mínimo de 2024 (R$ 1.412,00).\nSe o valor do salário mensal for menor que R$ 1.412,00, o valor será 1. Caso contrário, o valor será 0.\n\n.apply lambda\nAplica uma função lambda a cada valor da coluna\nA função lambda verifica se o valor é menor que 1.412 (x < 1412). Se for, retorna 1; caso contrário, retorna 0.\n\n",
      "metadata": {}
    },
    {
      "id": "7690e265-80f5-47e8-9633-bc4c855a8228",
      "cell_type": "code",
      "source": "df7_clone['CD_IN_RCLM_CLI'] = df7_clone['QT_RCLM_CLI'].apply(lambda x: 1 if x >= 1 else 0)\ndf7_clone['CD_IN_SLR_MIN'] = df7_clone['VL_SLR_MSL'].apply(lambda x: 1 if x < 1412 else 0)",
      "metadata": {
        "trusted": true
      },
      "outputs": [],
      "execution_count": 53
    },
    {
      "id": "1746a9df-0951-4044-8d36-0f46221a6a5f",
      "cell_type": "code",
      "source": "exercicio7 = df7_clone",
      "metadata": {
        "trusted": true
      },
      "outputs": [],
      "execution_count": 54
    },
    {
      "id": "60ab4724-b2c2-420a-82d5-04d136e33ee2",
      "cell_type": "code",
      "source": "exercicio7.head()",
      "metadata": {
        "trusted": true
      },
      "outputs": [
        {
          "execution_count": 55,
          "output_type": "execute_result",
          "data": {
            "text/plain": "    IDFR      DT_REF  IN_EVS   EST_CVL CLS_GNR RGAO_GEO  SGM_CLI  VL_SLR_MSL  \\\n0  11155  2023-10-01     1.0  SOLTEIRO       M      SUL      3.0      1650.0   \n1  11288  2023-11-01     0.0  SOLTEIRO       M  SUDESTE      2.0      4690.0   \n2  10570  2023-12-01     0.0  SOLTEIRO       F      SUL      4.0      3140.0   \n3   6891  2023-10-01     0.0  SOLTEIRO       M    NORTE      3.0       580.0   \n4   9486  2023-12-01     1.0  SOLTEIRO       M  SUDESTE      3.0      3110.0   \n\n   QT_PRD_COM_BB  TMP_RLC_COM_BB CTGR_MC_EPGR RAMO_MC_EPGR        NM_CTRA  \\\n0            4.0             0.0       VAREJO    INDUSTRIA       NEGOCIAL   \n1            7.0             2.0       VAREJO     SERVICOS       NEGOCIAL   \n2            5.0             4.0       VAREJO     COMERCIO       NEGOCIAL   \n3            6.0             3.0      ATACADO    INDUSTRIA  PERSONALIZADO   \n4           13.0             1.0       VAREJO    INDUSTRIA        PRIVATE   \n\n   VL_CST_SVR FXA_IDD  QT_RCLM_CLI  PRI_ATDT_CLI  CD_IN_RCLM_CLI  \\\n0        5.72   30-39          NaN           0.0               0   \n1       21.83   50-59          NaN           0.0               0   \n2       58.38   20-29          9.0           1.0               1   \n3        9.00   20-29          NaN           0.0               0   \n4      169.57   20-29          NaN           0.0               0   \n\n   CD_IN_SLR_MIN  \n0              0  \n1              0  \n2              0  \n3              1  \n4              0  ",
            "text/html": "<div>\n<style scoped>\n    .dataframe tbody tr th:only-of-type {\n        vertical-align: middle;\n    }\n\n    .dataframe tbody tr th {\n        vertical-align: top;\n    }\n\n    .dataframe thead th {\n        text-align: right;\n    }\n</style>\n<table border=\"1\" class=\"dataframe\">\n  <thead>\n    <tr style=\"text-align: right;\">\n      <th></th>\n      <th>IDFR</th>\n      <th>DT_REF</th>\n      <th>IN_EVS</th>\n      <th>EST_CVL</th>\n      <th>CLS_GNR</th>\n      <th>RGAO_GEO</th>\n      <th>SGM_CLI</th>\n      <th>VL_SLR_MSL</th>\n      <th>QT_PRD_COM_BB</th>\n      <th>TMP_RLC_COM_BB</th>\n      <th>CTGR_MC_EPGR</th>\n      <th>RAMO_MC_EPGR</th>\n      <th>NM_CTRA</th>\n      <th>VL_CST_SVR</th>\n      <th>FXA_IDD</th>\n      <th>QT_RCLM_CLI</th>\n      <th>PRI_ATDT_CLI</th>\n      <th>CD_IN_RCLM_CLI</th>\n      <th>CD_IN_SLR_MIN</th>\n    </tr>\n  </thead>\n  <tbody>\n    <tr>\n      <th>0</th>\n      <td>11155</td>\n      <td>2023-10-01</td>\n      <td>1.0</td>\n      <td>SOLTEIRO</td>\n      <td>M</td>\n      <td>SUL</td>\n      <td>3.0</td>\n      <td>1650.0</td>\n      <td>4.0</td>\n      <td>0.0</td>\n      <td>VAREJO</td>\n      <td>INDUSTRIA</td>\n      <td>NEGOCIAL</td>\n      <td>5.72</td>\n      <td>30-39</td>\n      <td>NaN</td>\n      <td>0.0</td>\n      <td>0</td>\n      <td>0</td>\n    </tr>\n    <tr>\n      <th>1</th>\n      <td>11288</td>\n      <td>2023-11-01</td>\n      <td>0.0</td>\n      <td>SOLTEIRO</td>\n      <td>M</td>\n      <td>SUDESTE</td>\n      <td>2.0</td>\n      <td>4690.0</td>\n      <td>7.0</td>\n      <td>2.0</td>\n      <td>VAREJO</td>\n      <td>SERVICOS</td>\n      <td>NEGOCIAL</td>\n      <td>21.83</td>\n      <td>50-59</td>\n      <td>NaN</td>\n      <td>0.0</td>\n      <td>0</td>\n      <td>0</td>\n    </tr>\n    <tr>\n      <th>2</th>\n      <td>10570</td>\n      <td>2023-12-01</td>\n      <td>0.0</td>\n      <td>SOLTEIRO</td>\n      <td>F</td>\n      <td>SUL</td>\n      <td>4.0</td>\n      <td>3140.0</td>\n      <td>5.0</td>\n      <td>4.0</td>\n      <td>VAREJO</td>\n      <td>COMERCIO</td>\n      <td>NEGOCIAL</td>\n      <td>58.38</td>\n      <td>20-29</td>\n      <td>9.0</td>\n      <td>1.0</td>\n      <td>1</td>\n      <td>0</td>\n    </tr>\n    <tr>\n      <th>3</th>\n      <td>6891</td>\n      <td>2023-10-01</td>\n      <td>0.0</td>\n      <td>SOLTEIRO</td>\n      <td>M</td>\n      <td>NORTE</td>\n      <td>3.0</td>\n      <td>580.0</td>\n      <td>6.0</td>\n      <td>3.0</td>\n      <td>ATACADO</td>\n      <td>INDUSTRIA</td>\n      <td>PERSONALIZADO</td>\n      <td>9.00</td>\n      <td>20-29</td>\n      <td>NaN</td>\n      <td>0.0</td>\n      <td>0</td>\n      <td>1</td>\n    </tr>\n    <tr>\n      <th>4</th>\n      <td>9486</td>\n      <td>2023-12-01</td>\n      <td>1.0</td>\n      <td>SOLTEIRO</td>\n      <td>M</td>\n      <td>SUDESTE</td>\n      <td>3.0</td>\n      <td>3110.0</td>\n      <td>13.0</td>\n      <td>1.0</td>\n      <td>VAREJO</td>\n      <td>INDUSTRIA</td>\n      <td>PRIVATE</td>\n      <td>169.57</td>\n      <td>20-29</td>\n      <td>NaN</td>\n      <td>0.0</td>\n      <td>0</td>\n      <td>0</td>\n    </tr>\n  </tbody>\n</table>\n</div>"
          },
          "metadata": {}
        }
      ],
      "execution_count": 55
    },
    {
      "id": "b9f1286d",
      "cell_type": "markdown",
      "source": "# Exercício 8 - Transformação das variáveis contínuas\n\n\nEm certos cenários, os cientistas de dados precisam realizar transformações para obter novos insights que auxiliem na previsão da variável-alvo. Portanto, este exercício propõe que você aplique essas transformações matemáticas na prática. Uma dica importante é verificar a distribuição da variável por meio de um histograma antes e depois das transformações, para tirar conclusões relevantes. Arredonde os valores em três casas decimais.\n\nCrie um DataFrame Pandas chamado <b>exercicio8</b> aplicando transformações matemáticas nas variáveis contínuas. Para criar o DataFrame utilize o <b>exercicio7</b> como base.\n\nSegue abaixo o detalhamento de cada variável:\n\n|Atributo|Descrição|Regra|\n|:-------|:--------|:----|\n|VL_SLR_MSL_SQRT| Valor da Raiz Quadrada do Salário Mensal | Raiz Quadrada do Valor do Salário Mensal|\n|VL_CST_SVR_LOG| Valor do Custo de Servir Logarítmo | Logaritmo do Valor do Custo de Servir acrescido de 1|\n|QT_PRD_COM_BB_LOG| Quantidade de Produtos com o BB Logarítmo | Logaritmo da Quantidade de Produtos com o BB acrescido de 1|\n\n\n<b>Atenção:</b> Não existe $Log(0)$, portanto atente para a regra das colunas de Logarítmo.",
      "metadata": {
        "id": "b9f1286d"
      }
    },
    {
      "id": "ed59a3bf-8805-484b-a9fb-bdd49c2ed191",
      "cell_type": "code",
      "source": "# Clone do DF exercicio7",
      "metadata": {
        "trusted": true
      },
      "outputs": [],
      "execution_count": null
    },
    {
      "id": "29284246",
      "cell_type": "code",
      "source": "df8_clone = exercicio7.copy()",
      "metadata": {
        "id": "29284246",
        "trusted": true
      },
      "outputs": [],
      "execution_count": 56
    },
    {
      "id": "d0411079-e3b8-48fe-834f-cf02e0ec6fc3",
      "cell_type": "code",
      "source": "# Transformação das variáveis",
      "metadata": {
        "trusted": true
      },
      "outputs": [],
      "execution_count": null
    },
    {
      "id": "8672d307-1bec-49f7-9c83-ef18dcadf484",
      "cell_type": "code",
      "source": "df8_clone['VL_SLR_MSL_SQRT'] = np.sqrt(df8_clone['VL_SLR_MSL']).round(3)\n",
      "metadata": {
        "trusted": true
      },
      "outputs": [],
      "execution_count": 58
    },
    {
      "id": "fe29a655-7aaa-4e71-8595-d5c773b0f3e5",
      "cell_type": "raw",
      "source": "Objetivo:\nCriar uma nova coluna chamada VL_SLR_MSL_SQRT que contém a raiz quadrada dos valores da coluna VL_SLR_MSL.\n\nnp.sqrt.\nAplica a função sqrt (raiz quadrada) da biblioteca NumPy a cada valor da coluna VL_SLR_MSL do DataFrame df8_clone.\n\n",
      "metadata": {}
    },
    {
      "id": "f20a7471-58b2-43ac-80ad-8dfde3129a6f",
      "cell_type": "code",
      "source": "df8_clone['VL_CST_SVR_LOG'] = np.log(df8_clone['VL_CST_SVR'] + 1).round(3)\n",
      "metadata": {
        "trusted": true
      },
      "outputs": [],
      "execution_count": 59
    },
    {
      "id": "b92bf9da-bd0d-45a3-8ed9-9d33963422e1",
      "cell_type": "raw",
      "source": "Objetivo: \nCriar uma nova coluna chamada VL_CST_SVR_LOG que contém o logaritmo natural dos valores da coluna VL_CST_SVR acrescidos de 1.\n\nnp.log\nAplica a função log da biblioteca NumPy a cada valor da coluna VL_CST_SVR do DataFrame ddf8_clone, após adicionar 1 a cada valor. Adicionar 1 é necessário para evitar o logaritmo de zero, que é indefinido.\n\nO mesmo ocorre para a próxima variável abaixo.",
      "metadata": {}
    },
    {
      "id": "6dd3de4e-8d17-46ac-8b6d-a829217df4a8",
      "cell_type": "code",
      "source": "df8_clone['QT_PRD_COM_BB_LOG'] = np.log(df8_clone['QT_PRD_COM_BB'] + 1).round(3)\n",
      "metadata": {
        "trusted": true
      },
      "outputs": [],
      "execution_count": 60
    },
    {
      "id": "b68ad069-47d4-418b-a978-5949d9c49db8",
      "cell_type": "code",
      "source": "exercicio8 = df8_clone",
      "metadata": {
        "trusted": true
      },
      "outputs": [],
      "execution_count": 61
    },
    {
      "id": "857328c7-8604-460a-9d48-71d1de7849f4",
      "cell_type": "code",
      "source": "exercicio8.head()",
      "metadata": {
        "trusted": true
      },
      "outputs": [
        {
          "execution_count": 64,
          "output_type": "execute_result",
          "data": {
            "text/plain": "    IDFR      DT_REF  IN_EVS   EST_CVL CLS_GNR RGAO_GEO  SGM_CLI  VL_SLR_MSL  \\\n0  11155  2023-10-01     1.0  SOLTEIRO       M      SUL      3.0      1650.0   \n1  11288  2023-11-01     0.0  SOLTEIRO       M  SUDESTE      2.0      4690.0   \n2  10570  2023-12-01     0.0  SOLTEIRO       F      SUL      4.0      3140.0   \n3   6891  2023-10-01     0.0  SOLTEIRO       M    NORTE      3.0       580.0   \n4   9486  2023-12-01     1.0  SOLTEIRO       M  SUDESTE      3.0      3110.0   \n\n   QT_PRD_COM_BB  TMP_RLC_COM_BB  ...        NM_CTRA VL_CST_SVR FXA_IDD  \\\n0            4.0             0.0  ...       NEGOCIAL       5.72   30-39   \n1            7.0             2.0  ...       NEGOCIAL      21.83   50-59   \n2            5.0             4.0  ...       NEGOCIAL      58.38   20-29   \n3            6.0             3.0  ...  PERSONALIZADO       9.00   20-29   \n4           13.0             1.0  ...        PRIVATE     169.57   20-29   \n\n   QT_RCLM_CLI PRI_ATDT_CLI  CD_IN_RCLM_CLI  CD_IN_SLR_MIN  VL_SLR_MSL_SQRT  \\\n0          NaN          0.0               0              0           40.620   \n1          NaN          0.0               0              0           68.484   \n2          9.0          1.0               1              0           56.036   \n3          NaN          0.0               0              1           24.083   \n4          NaN          0.0               0              0           55.767   \n\n   VL_CST_SVR_LOG  QT_PRD_COM_BB_LOG  \n0           1.905              1.609  \n1           3.128              2.079  \n2           4.084              1.792  \n3           2.303              1.946  \n4           5.139              2.639  \n\n[5 rows x 22 columns]",
            "text/html": "<div>\n<style scoped>\n    .dataframe tbody tr th:only-of-type {\n        vertical-align: middle;\n    }\n\n    .dataframe tbody tr th {\n        vertical-align: top;\n    }\n\n    .dataframe thead th {\n        text-align: right;\n    }\n</style>\n<table border=\"1\" class=\"dataframe\">\n  <thead>\n    <tr style=\"text-align: right;\">\n      <th></th>\n      <th>IDFR</th>\n      <th>DT_REF</th>\n      <th>IN_EVS</th>\n      <th>EST_CVL</th>\n      <th>CLS_GNR</th>\n      <th>RGAO_GEO</th>\n      <th>SGM_CLI</th>\n      <th>VL_SLR_MSL</th>\n      <th>QT_PRD_COM_BB</th>\n      <th>TMP_RLC_COM_BB</th>\n      <th>...</th>\n      <th>NM_CTRA</th>\n      <th>VL_CST_SVR</th>\n      <th>FXA_IDD</th>\n      <th>QT_RCLM_CLI</th>\n      <th>PRI_ATDT_CLI</th>\n      <th>CD_IN_RCLM_CLI</th>\n      <th>CD_IN_SLR_MIN</th>\n      <th>VL_SLR_MSL_SQRT</th>\n      <th>VL_CST_SVR_LOG</th>\n      <th>QT_PRD_COM_BB_LOG</th>\n    </tr>\n  </thead>\n  <tbody>\n    <tr>\n      <th>0</th>\n      <td>11155</td>\n      <td>2023-10-01</td>\n      <td>1.0</td>\n      <td>SOLTEIRO</td>\n      <td>M</td>\n      <td>SUL</td>\n      <td>3.0</td>\n      <td>1650.0</td>\n      <td>4.0</td>\n      <td>0.0</td>\n      <td>...</td>\n      <td>NEGOCIAL</td>\n      <td>5.72</td>\n      <td>30-39</td>\n      <td>NaN</td>\n      <td>0.0</td>\n      <td>0</td>\n      <td>0</td>\n      <td>40.620</td>\n      <td>1.905</td>\n      <td>1.609</td>\n    </tr>\n    <tr>\n      <th>1</th>\n      <td>11288</td>\n      <td>2023-11-01</td>\n      <td>0.0</td>\n      <td>SOLTEIRO</td>\n      <td>M</td>\n      <td>SUDESTE</td>\n      <td>2.0</td>\n      <td>4690.0</td>\n      <td>7.0</td>\n      <td>2.0</td>\n      <td>...</td>\n      <td>NEGOCIAL</td>\n      <td>21.83</td>\n      <td>50-59</td>\n      <td>NaN</td>\n      <td>0.0</td>\n      <td>0</td>\n      <td>0</td>\n      <td>68.484</td>\n      <td>3.128</td>\n      <td>2.079</td>\n    </tr>\n    <tr>\n      <th>2</th>\n      <td>10570</td>\n      <td>2023-12-01</td>\n      <td>0.0</td>\n      <td>SOLTEIRO</td>\n      <td>F</td>\n      <td>SUL</td>\n      <td>4.0</td>\n      <td>3140.0</td>\n      <td>5.0</td>\n      <td>4.0</td>\n      <td>...</td>\n      <td>NEGOCIAL</td>\n      <td>58.38</td>\n      <td>20-29</td>\n      <td>9.0</td>\n      <td>1.0</td>\n      <td>1</td>\n      <td>0</td>\n      <td>56.036</td>\n      <td>4.084</td>\n      <td>1.792</td>\n    </tr>\n    <tr>\n      <th>3</th>\n      <td>6891</td>\n      <td>2023-10-01</td>\n      <td>0.0</td>\n      <td>SOLTEIRO</td>\n      <td>M</td>\n      <td>NORTE</td>\n      <td>3.0</td>\n      <td>580.0</td>\n      <td>6.0</td>\n      <td>3.0</td>\n      <td>...</td>\n      <td>PERSONALIZADO</td>\n      <td>9.00</td>\n      <td>20-29</td>\n      <td>NaN</td>\n      <td>0.0</td>\n      <td>0</td>\n      <td>1</td>\n      <td>24.083</td>\n      <td>2.303</td>\n      <td>1.946</td>\n    </tr>\n    <tr>\n      <th>4</th>\n      <td>9486</td>\n      <td>2023-12-01</td>\n      <td>1.0</td>\n      <td>SOLTEIRO</td>\n      <td>M</td>\n      <td>SUDESTE</td>\n      <td>3.0</td>\n      <td>3110.0</td>\n      <td>13.0</td>\n      <td>1.0</td>\n      <td>...</td>\n      <td>PRIVATE</td>\n      <td>169.57</td>\n      <td>20-29</td>\n      <td>NaN</td>\n      <td>0.0</td>\n      <td>0</td>\n      <td>0</td>\n      <td>55.767</td>\n      <td>5.139</td>\n      <td>2.639</td>\n    </tr>\n  </tbody>\n</table>\n<p>5 rows × 22 columns</p>\n</div>"
          },
          "metadata": {}
        }
      ],
      "execution_count": 64
    },
    {
      "id": "fce3acde",
      "cell_type": "markdown",
      "source": "# Exercício 9 - Padronização de variável\n\nCrie um DataFrame Pandas chamado <b>exercicio9</b> com suas <b>variáveis quantitativas contínuas </b> padronizadas pelo método Máximo-Mínimo (Max-Min). No exercício, não é necessário padronizar a variável ‘QT_RCLM_CLI’, pois, para o caso em questão, a variável binária ‘CD_IN_RCLM_CLI’ tem maior relevância do ponto de vista negocial.\n\n<b>Importante:</b> Para esse exercício, deve utilizar o DataFrame do **Exercício 8**. Arredonde os valores em três casas decimais.\n\nSegue abaixo a fórmula da Padronização pelo Método Max-Min:\n\n$$X_{max\\_min} = \\frac{X - \\min(X)}{\\max(X) - \\min(X)}$$\n\n\nSegue abaixo como seria o DataFrame com dados fícticios:\n\n|   IDFR | DT_REF              |   IN_EVS | EST_CVL   | CLS_GNR   | RGAO_GEO     |   SGM_CLI |   VL_SLR_MSL |   QT_PRD_COM_BB |   TMP_RLC_COM_BB | CTGR_MC_EPGR   | RAMO_MC_EPGR   | NM_CTRA   |   VL_CST_SVR | FXA_IDD   |   QT_RCLM_CLI |   PRI_ATDT_CLI |   CD_IN_RCLM_CLI |   CD_IN_SLR_MIN |\n|-------:|:--------------------|---------:|:----------|:----------|:-------------|----------:|-------------:|----------------:|-----------------:|:---------------|:---------------|:----------|-------------:|:----------|--------------:|---------------:|-----------------:|----------------:|\n|      1 | 2023-12-01 00:00:00 |        0 | SOLTEIRO  | M         | SUDESTE      |         3 |          0.1 |             0.1 |             0.12 | ATACADO        | INDUSTRIA      | NEGOCIAL  |         0.28 | 30-39     |             0 |              0 |                0 |               0 |\n|      2 | 2023-10-01 00:00:00 |        0 | SOLTEIRO  | M         | SUL          |         1 |          0.2 |             0.2 |             0.10 | ATACADO        | INDUSTRIA      | NEGOCIAL  |         0.39 | 30-39     |             0 |              0 |                0 |               0 |\n|      3 | 2023-11-01 00:00:00 |        0 | SOLTEIRO  | M         | SUDESTE      |         3 |          0.3 |             0.3 |             0.12 | VAREJO         | SERVICOS       | NEGOCIAL  |         0.81 | 30-39     |             0 |              0 |                0 |               0 |\n|      5 | 2023-11-01 00:00:00 |        1 | SOLTEIRO  | F         | SUL          |         4 |          0.4 |             0.4 |             0.02 | ATACADO        | INDUSTRIA      | NEGOCIAL  |         0.72 | 30-39     |             0 |              0 |                0 |               0 |\n|      6 | 2023-10-01 00:00:00 |        0 | SOLTEIRO  | M         | CENTRO-OESTE |         2 |          0.5 |             0.5 |             0.08 | ATACADO        | INDUSTRIA      | NEGOCIAL  |         0.80 | 30-39     |             0 |              0 |                0 |               1 |\n\n\n",
      "metadata": {
        "id": "fce3acde"
      }
    },
    {
      "id": "3dd8142c-d870-4df8-a694-e51b638f3acb",
      "cell_type": "code",
      "source": "# Clone do DF exercicio8:",
      "metadata": {
        "trusted": true
      },
      "outputs": [],
      "execution_count": null
    },
    {
      "id": "545f8d55-b062-419c-9635-4c7f923fd9b6",
      "cell_type": "code",
      "source": "df9_clone = exercicio8.copy()",
      "metadata": {
        "id": "545f8d55-b062-419c-9635-4c7f923fd9b6",
        "trusted": true
      },
      "outputs": [],
      "execution_count": 66
    },
    {
      "id": "94fafceb-19d1-44a7-8490-af488e913a63",
      "cell_type": "code",
      "source": "# Selecionando apenas as colunas quantitativas contínuas para padronização:",
      "metadata": {
        "trusted": true
      },
      "outputs": [],
      "execution_count": null
    },
    {
      "id": "d010d5fe-eb60-48ee-8a39-701c054ba48c",
      "cell_type": "code",
      "source": "colunas_quantitativas9= [\n    'VL_SLR_MSL', \n    \"VL_SLR_MSL_SQRT\",\n    \"VL_CST_SVR_LOG\",\n    \"QT_PRD_COM_BB_LOG\",\n    \"QT_PRD_COM_BB\",\n    \"TMP_RLC_COM_BB\",\n    \"VL_CST_SVR\"\n]",
      "metadata": {
        "trusted": true
      },
      "outputs": [],
      "execution_count": 67
    },
    {
      "id": "af71ed2c-d1a5-43a4-ab99-4f0217dd31df",
      "cell_type": "code",
      "source": "# Aplicando a padronização pelo método Máximo-Mínimo (Max-Min):",
      "metadata": {
        "trusted": true
      },
      "outputs": [],
      "execution_count": 74
    },
    {
      "id": "6ab250e2-0a6f-4f87-8267-b65400d45afb",
      "cell_type": "code",
      "source": "for col in colunas_quantitativas9:\n    min_val = df9_clone[col].min()\n    max_val = df9_clone[col].max()\n    df9_clone[col] = ((df9_clone[col] - min_val) / (max_val - min_val)).round(3)",
      "metadata": {
        "trusted": true
      },
      "outputs": [],
      "execution_count": 68
    },
    {
      "id": "202e7a44-c391-4bbc-9222-3bfc8cc572c0",
      "cell_type": "code",
      "source": "df9_clone['QT_RCLM_CLI'].fillna(0, inplace=True)",
      "metadata": {
        "trusted": true
      },
      "outputs": [],
      "execution_count": 71
    },
    {
      "id": "da6f6d80-1592-4107-9214-7f2c6b96fbf0",
      "cell_type": "code",
      "source": "exercicio9 = df9_clone",
      "metadata": {
        "trusted": true
      },
      "outputs": [],
      "execution_count": 72
    },
    {
      "id": "64312c0e-eaa2-4e8c-a6e7-41d68eb2f84f",
      "cell_type": "code",
      "source": "exercicio9.head()",
      "metadata": {
        "trusted": true
      },
      "outputs": [
        {
          "execution_count": 73,
          "output_type": "execute_result",
          "data": {
            "text/plain": "    IDFR      DT_REF  IN_EVS   EST_CVL CLS_GNR RGAO_GEO  SGM_CLI  VL_SLR_MSL  \\\n0  11155  2023-10-01     1.0  SOLTEIRO       M      SUL      3.0       0.165   \n1  11288  2023-11-01     0.0  SOLTEIRO       M  SUDESTE      2.0       0.469   \n2  10570  2023-12-01     0.0  SOLTEIRO       F      SUL      4.0       0.314   \n3   6891  2023-10-01     0.0  SOLTEIRO       M    NORTE      3.0       0.058   \n4   9486  2023-12-01     1.0  SOLTEIRO       M  SUDESTE      3.0       0.311   \n\n   QT_PRD_COM_BB  TMP_RLC_COM_BB  ...        NM_CTRA VL_CST_SVR FXA_IDD  \\\n0          0.060           0.000  ...       NEGOCIAL      0.019   30-39   \n1          0.104           0.027  ...       NEGOCIAL      0.073   50-59   \n2          0.075           0.055  ...       NEGOCIAL      0.195   20-29   \n3          0.090           0.041  ...  PERSONALIZADO      0.030   20-29   \n4          0.194           0.014  ...        PRIVATE      0.566   20-29   \n\n   QT_RCLM_CLI PRI_ATDT_CLI  CD_IN_RCLM_CLI  CD_IN_SLR_MIN  VL_SLR_MSL_SQRT  \\\n0          0.0          0.0               0              0            0.406   \n1          0.0          0.0               0              0            0.685   \n2          9.0          1.0               1              0            0.560   \n3          0.0          0.0               0              1            0.241   \n4          0.0          0.0               0              0            0.558   \n\n   VL_CST_SVR_LOG  QT_PRD_COM_BB_LOG  \n0           0.334              0.381  \n1           0.548              0.493  \n2           0.716              0.425  \n3           0.404              0.461  \n4           0.901              0.625  \n\n[5 rows x 22 columns]",
            "text/html": "<div>\n<style scoped>\n    .dataframe tbody tr th:only-of-type {\n        vertical-align: middle;\n    }\n\n    .dataframe tbody tr th {\n        vertical-align: top;\n    }\n\n    .dataframe thead th {\n        text-align: right;\n    }\n</style>\n<table border=\"1\" class=\"dataframe\">\n  <thead>\n    <tr style=\"text-align: right;\">\n      <th></th>\n      <th>IDFR</th>\n      <th>DT_REF</th>\n      <th>IN_EVS</th>\n      <th>EST_CVL</th>\n      <th>CLS_GNR</th>\n      <th>RGAO_GEO</th>\n      <th>SGM_CLI</th>\n      <th>VL_SLR_MSL</th>\n      <th>QT_PRD_COM_BB</th>\n      <th>TMP_RLC_COM_BB</th>\n      <th>...</th>\n      <th>NM_CTRA</th>\n      <th>VL_CST_SVR</th>\n      <th>FXA_IDD</th>\n      <th>QT_RCLM_CLI</th>\n      <th>PRI_ATDT_CLI</th>\n      <th>CD_IN_RCLM_CLI</th>\n      <th>CD_IN_SLR_MIN</th>\n      <th>VL_SLR_MSL_SQRT</th>\n      <th>VL_CST_SVR_LOG</th>\n      <th>QT_PRD_COM_BB_LOG</th>\n    </tr>\n  </thead>\n  <tbody>\n    <tr>\n      <th>0</th>\n      <td>11155</td>\n      <td>2023-10-01</td>\n      <td>1.0</td>\n      <td>SOLTEIRO</td>\n      <td>M</td>\n      <td>SUL</td>\n      <td>3.0</td>\n      <td>0.165</td>\n      <td>0.060</td>\n      <td>0.000</td>\n      <td>...</td>\n      <td>NEGOCIAL</td>\n      <td>0.019</td>\n      <td>30-39</td>\n      <td>0.0</td>\n      <td>0.0</td>\n      <td>0</td>\n      <td>0</td>\n      <td>0.406</td>\n      <td>0.334</td>\n      <td>0.381</td>\n    </tr>\n    <tr>\n      <th>1</th>\n      <td>11288</td>\n      <td>2023-11-01</td>\n      <td>0.0</td>\n      <td>SOLTEIRO</td>\n      <td>M</td>\n      <td>SUDESTE</td>\n      <td>2.0</td>\n      <td>0.469</td>\n      <td>0.104</td>\n      <td>0.027</td>\n      <td>...</td>\n      <td>NEGOCIAL</td>\n      <td>0.073</td>\n      <td>50-59</td>\n      <td>0.0</td>\n      <td>0.0</td>\n      <td>0</td>\n      <td>0</td>\n      <td>0.685</td>\n      <td>0.548</td>\n      <td>0.493</td>\n    </tr>\n    <tr>\n      <th>2</th>\n      <td>10570</td>\n      <td>2023-12-01</td>\n      <td>0.0</td>\n      <td>SOLTEIRO</td>\n      <td>F</td>\n      <td>SUL</td>\n      <td>4.0</td>\n      <td>0.314</td>\n      <td>0.075</td>\n      <td>0.055</td>\n      <td>...</td>\n      <td>NEGOCIAL</td>\n      <td>0.195</td>\n      <td>20-29</td>\n      <td>9.0</td>\n      <td>1.0</td>\n      <td>1</td>\n      <td>0</td>\n      <td>0.560</td>\n      <td>0.716</td>\n      <td>0.425</td>\n    </tr>\n    <tr>\n      <th>3</th>\n      <td>6891</td>\n      <td>2023-10-01</td>\n      <td>0.0</td>\n      <td>SOLTEIRO</td>\n      <td>M</td>\n      <td>NORTE</td>\n      <td>3.0</td>\n      <td>0.058</td>\n      <td>0.090</td>\n      <td>0.041</td>\n      <td>...</td>\n      <td>PERSONALIZADO</td>\n      <td>0.030</td>\n      <td>20-29</td>\n      <td>0.0</td>\n      <td>0.0</td>\n      <td>0</td>\n      <td>1</td>\n      <td>0.241</td>\n      <td>0.404</td>\n      <td>0.461</td>\n    </tr>\n    <tr>\n      <th>4</th>\n      <td>9486</td>\n      <td>2023-12-01</td>\n      <td>1.0</td>\n      <td>SOLTEIRO</td>\n      <td>M</td>\n      <td>SUDESTE</td>\n      <td>3.0</td>\n      <td>0.311</td>\n      <td>0.194</td>\n      <td>0.014</td>\n      <td>...</td>\n      <td>PRIVATE</td>\n      <td>0.566</td>\n      <td>20-29</td>\n      <td>0.0</td>\n      <td>0.0</td>\n      <td>0</td>\n      <td>0</td>\n      <td>0.558</td>\n      <td>0.901</td>\n      <td>0.625</td>\n    </tr>\n  </tbody>\n</table>\n<p>5 rows × 22 columns</p>\n</div>"
          },
          "metadata": {}
        }
      ],
      "execution_count": 73
    },
    {
      "id": "270668ac",
      "cell_type": "markdown",
      "source": "# Exercício 10 a) - Criar Dummies ou One Hot Encoding\n\n## 1ª Parte\n\nCrie o DataFrame **exercicio10a** a partir do DataFrame **exercicio9** ou **exercicio8** transformando todas as variáveis categóricas para o formato <b>uint8</b>. \n\n<b>Importante:</b> Lembrando que as variáveis categóricas são: \n\n- Estado Civil\n- Classificação de Gênero\n- Região Geográfica\n- Segmento do Cliente\n- Categoria de Mercado do Empregador\n- Ramo de Mercado do Empregador\n- Nome da Carteira\n- Faixa de Idade\n\n\n**Regra 1:** todas as colunas devem conter valores binários (0 ou 1)\n\n**Regra 2:** Utilizar técnicas de criação de variáveis fictícias (dummies).\n\n**Regra 3:** Os nomes das variáveis criadas pela aplicação das técnicas acima devem obrigatoriamente iniciar com o nome original da coluna.\n\nExemplo:\n- coluna original:\n\n|NM_COL|\n|---|\n|CAT1|\n|CAT2|\n|CAT1|\n|CAT3|\n|...|\n- colunas categórias:\n\n|NM_COL_CAT1|NM_COL_CAT2|NM_COL_CAT3|\n|---|---|---|\n|1|0|0|\n|0|1|0|\n|1|0|0|\n|0|0|1|\n|...|...|...|\n\n**Regra 4:** Desprezar as variáveis que contenham apenas um valor único, ou seja, que tenha apenas valores 0 ou apenas valores 1.\n",
      "metadata": {
        "id": "270668ac"
      }
    },
    {
      "id": "3c1bfe3c-3b1f-4a1c-ba62-a7c69d35c8e2",
      "cell_type": "code",
      "source": "",
      "metadata": {
        "id": "3c1bfe3c-3b1f-4a1c-ba62-a7c69d35c8e2",
        "trusted": true
      },
      "outputs": [],
      "execution_count": null
    },
    {
      "id": "b0d3066f",
      "cell_type": "markdown",
      "source": "# Exercício 10 b) - Separação das variáveis alvo e preditoras\n\n## 2ª Parte\n\nA partir do **exercicio10a**, crie os DataFrames **exercicio10b** e **exercicio10c** contendo:\n\n - **exercicio10b** = demais variáveis (Exceto DT_REF e IDFR)\n - **exercicio10c** = variável alvo (target) no nosso modelo\n\n----\n## Descomplicando\n**Variável Alvo** (ou Variável Target) é a variável de interesse do nosso modelo, em geral a variável que busca-se prever. ",
      "metadata": {
        "id": "b0d3066f"
      }
    },
    {
      "id": "ee30f648-cec8-42a9-ad07-d0f4ef25d917",
      "cell_type": "code",
      "source": "",
      "metadata": {
        "id": "ee30f648-cec8-42a9-ad07-d0f4ef25d917",
        "trusted": true
      },
      "outputs": [],
      "execution_count": null
    },
    {
      "id": "dba525d3",
      "cell_type": "markdown",
      "source": "# Exercício 11 - Separação de conjunto de dados - Treino/Teste\n\nA partir das variáveis **exercicio10b** e **exercicio10bc**, crie os DataFrames **exercicio11a**, **exercicio11b**, **exercicio11c** e **exercicio11d** aplicando a técnica de divisão dos DataFrames do exercício anterior para treino e teste (Train/Test Split) considerando as seguintes regras:\n\n - **exercicio11a** : Dados de treino para as variáveis preditoras (X)\n - **exercicio11b** : Dados de teste para as variáveis preditoras (X)\n - **exercicio11c** : Dados de treino para a variável alvo (y)\n - **exercicio11d** : Dados de teste para as variável alvo (y)\n\n1) separar **30%** dos registros para teste\n\n2) Travar a semente (seed) em <b>42</b>\n\n3) Passar o parâmetro embaralhar (shuffle) como `True`\n\n4) Utilize no máximo **21 variáveis** para criar o modelo, ou seja, a entrada do modelo poderá conter no máximo 21 atributos. Exemplo:\n\n\n|   VL_SLR_MSL |   QT_PRD_COM_BB |   TMP_RLC_COM_BB |   VL_CST_SVR |   PRI_ATDT_CLI |   CD_IN_RCLM_CLI |   CD_IN_SLR_MIN |   VL_CST_SVR_LOG |   QT_PRD_COM_BB_LOG |   VL_SLR_MSL_SQRT |   CLS_GNR_M |   RGAO_GEO_CENTRO-OESTE |   RGAO_GEO_NORDESTE |   RGAO_GEO_NORTE |   RGAO_GEO_SUDESTE |   RGAO_GEO_SUL |\n|-------------:|----------------:|-----------------:|-------------:|---------------:|-----------------:|----------------:|-----------------:|--------------------:|------------------:|------------:|------------------------:|--------------------:|-----------------:|-------------------:|---------------:|\n|         4100 |               7 |        0.746971  |        28.85 |              0 |                0 |               1 |        -0.189521 |            0.140901 |          0.469209 |           1 |                       0 |                   0 |                0 |                  1 |              0 |\n|         7510 |               6 |       -0.0240181 |        39.87 |              0 |                0 |               1 |         0.100732 |           -0.120562 |          1.70155  |           1 |                       0 |                   0 |                0 |                  0 |              1 |\n|         4450 |              13 |        0.0723555 |        81.87 |              0 |                0 |               1 |         0.753708 |            1.23667  |          0.614998 |           1 |                       0 |                   0 |                0 |                  1 |              0 |\n|         1200 |               4 |       -0.987754  |        19.88 |              0 |                0 |               0 |        -0.519662 |           -0.779396 |         -1.13133  |           0 |                       0 |                   0 |                0 |                  0 |              1 |\n|         5100 |              14 |       -0.216765  |       104.96 |              0 |                0 |               1 |         0.980755 |            1.37176  |          0.871277 |           1 |                       1 |                   0 |                0 |                  0 |              0 |\n\n\nAtenção, as variáveis criadas devem ser do tipo DataFrame.",
      "metadata": {
        "id": "dba525d3"
      }
    },
    {
      "id": "2047e7fd-5968-41f5-82c6-7c84150f6188",
      "cell_type": "code",
      "source": "",
      "metadata": {
        "id": "2047e7fd-5968-41f5-82c6-7c84150f6188",
        "trusted": true
      },
      "outputs": [],
      "execution_count": null
    },
    {
      "id": "e8564f11",
      "cell_type": "markdown",
      "source": "# Exercício 12 - Criação de modelo de aprendizado de máquina\n\n## Parte 1\n\nCrie as variáveis abaixo relacionadas aplicando os modelos preditivos conforme orientações detalhadas abaixo:\n\n|Nome da Variável|Modelo|Tipo|\n|---|---|---|\n|**exercicio12e**|Regressão Logística|sklearn.linear_model._logistic.LogisticRegression|\n|**exercicio12f**|Árvore de Decisão|sklearn.tree.DecisionTreeClassifier|\n|**exercicio12g**|Support Vector Machine|sklearn.svm._classes.SVC|\n\n## Parte 2\n\nCriar as variáveis **exercicio12a**, **exercicio12b**, **exercicio12c** e **exercicio12d** para responder às perguntas:\n\n**exercicio12a)** Qual o F1-score do modelo Regressão Logística?\n\n**exercicio12b)** Qual o F1-score do modelo Árvore de Decisão?\n\n**exercicio12c)** Qual o F1-score do modelo Support Vector Machine?\n\n**exercicio12d)** Qual o modelo com maior F1-score?\n\nAs variáveis com as respostas **exercicio12a**, **exercicio12b** e **exercicio12c**, deverão conter o F1-score com três casas decimais no formato X.XXX\n\n    Exemplo:\n        comando: print(exercicio12e)\n        resultado: 0.789\n        \nA resposta **exercicio12d** deverá conter a variável do **modelo com melhor métrica F1-score**. \n\n**Regra:** O valor do F1-score deve estar entre 0,50 e 0,70.\n",
      "metadata": {
        "id": "e8564f11"
      }
    },
    {
      "id": "e2de1b0c-213b-4a62-b47b-fb743963dbf4",
      "cell_type": "code",
      "source": "",
      "metadata": {
        "id": "e2de1b0c-213b-4a62-b47b-fb743963dbf4",
        "trusted": true
      },
      "outputs": [],
      "execution_count": null
    },
    {
      "id": "9df85c9e",
      "cell_type": "markdown",
      "source": "# Exercício 13 - Obtenção das métricas do modelo construído\n\nFaça a **Matriz de Confusão** (confusion_matrix) do seu modelo de melhor F1-score, conforme resposta do Exercício 12, em seguida crie as variáveis **exercicio13a**, **exercicio13b**, **exercicio13c** para responder às perguntas:\n\n\n\n**exercicio13a)** Quantos foram os casos de falso positivo do seu modelo, ou seja, os casos em que o modelo previu que a pessoa sairia (churn), mas ela não saiu? A variável deve ser do tipo `int` ou `float`. \n\n\n\n**exercicio13b)** Quantos foram os casos de falso negativo? A variável deve ser do tipo `int` ou `float`.\n\n\n\n**exercicio13c)** Considerando o cenário proposto, onde o gestor esteja buscando, principalmente, **reter os clientes**. Na sua análise, qual dos dois erros acima é o mais crítico para esse contexto do nosso problema de negócio?\n\n\n\n    a) falso positivo\n    b) falso negativo\n    c) os dois erros são igualmente críticos\n    d) nenhum dos dois, é indiferente\n\n\n\nAs variáveis com as respostas **exercicio13a** e **exercicio13b** deverão conter a quantidade em formato inteiro.\n\n\n\n    Exemplo:\n        comando: print(exercicio13a)\n        resultado: 125\n\n\n\nA variável **exercicio13c** deverá conter a letra correspondente à resposta que você entende ser a mais correta.",
      "metadata": {
        "id": "9df85c9e"
      }
    },
    {
      "id": "80d4de69-826f-40b5-8091-ee098e9d5a21",
      "cell_type": "code",
      "source": "",
      "metadata": {
        "id": "80d4de69-826f-40b5-8091-ee098e9d5a21",
        "trusted": true
      },
      "outputs": [],
      "execution_count": null
    },
    {
      "id": "39b77f15",
      "cell_type": "markdown",
      "source": "# Exercício 14 - Balanceamento dos dados com SMOTE\n\nFaça o oversampling dos dados produzidos no exercício 11 utilizando a técnica SMOTE, porém, de forma a não enviesar os dados de teste.\n\nO objeto SMOTE deve ser criado numa variável chamada **smt**.\n\nUse **random_state=42** no SMOTE\n\nO resultado do balanceamento dos dados de treinamento deve ser salvo nas variáveis **exercicio14a** e **exercicio14b**.\n\n - **exercicio14a** : Dados de treino para as variáveis preditoras (X)\n - **exercicio14b** : Dados de treino para a variável alvo (y)\n\nCrie as variáveis **exercicio14c**, **exercicio14d**, **exercicio14e** e **exercicio14f**:\n\n- Guarde as quantidades de amostras das classe 0 e classe 1 **ANTES** a utilização do SMOTE nas variáveis **exercicio14c** e **exercicio14d**.\n- Guarde as quantidades de amostras das classe 0 e classe 1 **APÓS** a utilização do SMOTE nas variáveis **exercicio14e** e **exercicio14f**.\n\nAbaixo temos um exemplo fictício de como ficaria o print da quantidade de amostras por classe <B>ANTES</B> da aplicação do SMOTE. Na sequência os prints dos valores do exemplo nas variáveis **exercicio14c** e **exercicio14d**.\n\n<pre>\n0.0    4533\n1.0    1767\nName: IN_EVS, dtype: int64\n</pre>\n\n<pre>\nprint(exercicio14c)\nOUTPUT: 4533\n\nprint(exercicio14d)\nOUTPUT: 1767\n</pre>\n\nAbaixo temos um exemplo fictício de como ficaria o print da quantidade de amostras por classe <B>APÓS</B> a aplicação do SMOTE. Na sequência os prints dos valores do exemplo nas variáveis **exercicio14e** e **exercicio14f**.\n<pre>\n0.0    4533\n1.0    4533\nName: IN_EVS, dtype: int64\n</pre>\n\n<pre>\nprint(exercicio14e)\nOUTPUT: 4533\n\nprint(exercicio14f)\nOUTPUT: 4533\n</pre>\n\n----\n## Descomplicando\n\nPara tirar suas dúvidas, acesse a documentação do SMOTE no link abaixo.\n\nhttps://imbalanced-learn.org/stable/references/generated/imblearn.over_sampling.SMOTE.html\n",
      "metadata": {
        "id": "39b77f15"
      }
    },
    {
      "id": "b5dcf540-029b-411c-ae14-d61989ff3232",
      "cell_type": "code",
      "source": "",
      "metadata": {
        "id": "b5dcf540-029b-411c-ae14-d61989ff3232",
        "trusted": true
      },
      "outputs": [],
      "execution_count": null
    },
    {
      "id": "5404a31e",
      "cell_type": "markdown",
      "source": "# Exercício 15 - Balanceamento dos dados com SMOTE e comparação dos resultados\n\n## Parte 1\n\nRefaça o exercício 12 alterando o nome das variáveis conforme explicado abaixo utilizando os dados balanceados pelo SMOTE. Se atente a usar o mesmo conjunto de teste nos exercícios 12 e 15, para comparar os resultados do treinamento com e sem SMOTE.\n\nAtribua o valor do F1-score deste exercício do modelo Regressão Logística para a variável **exercicio15a**\n\nAtribua o valor do F1-score deste exercício do modelo Árvore de Decisão para a variável **exercicio15b**\n\nAtribua o valor do F1-score deste exercício do modelo Support Vector Machine para a variável **exercicio15c**\n\nAtribua o valor do modelo com maior F1-score deste exercício para a variável **exercicio15d**\n\nCrie as variáveis abaixo aplicando os modelos preditivos conforme orientações detalhadas:\n\n|Nome da Variável|Modelo|Tipo|\n|---|---|---|\n|**logreg**|Regressão Logística|sklearn.linear_model._logistic.LogisticRegression|\n|**clf**|Árvore de Decisão|sklearn.tree.DecisionTreeClassifier|\n|**svc**|Support Vector Machine|sklearn.svm._classes.SVC|\n\n\n## Parte 2\n\nFaça a **Matriz de Confusão** (confusion_matriz) do seu modelo de melhor F1-score com os dados balanceados pelo SMOTE, conforme resposta do Exercício 14, em seguida crie as variáveis **exercicio15e**, **exercicio15f** e para responder às perguntas:\n\n\n\n**exercicio15e)** Quantos foram os casos de falso positivo do seu modelo, ou seja, os casos em que o modelo previu que a pessoa sairia (churn), mas ela não saiu?\n\n\n\n**exercicio15f)** Quantos foram os casos de falso negativo?",
      "metadata": {
        "id": "5404a31e"
      }
    },
    {
      "id": "5e529e87-f05a-4507-8d8f-0b1fc5f35399",
      "cell_type": "code",
      "source": "",
      "metadata": {
        "id": "5e529e87-f05a-4507-8d8f-0b1fc5f35399",
        "trusted": true
      },
      "outputs": [],
      "execution_count": null
    },
    {
      "id": "f2d43431-8851-4f39-aad3-d385cd93f603",
      "cell_type": "code",
      "source": "",
      "metadata": {
        "id": "f2d43431-8851-4f39-aad3-d385cd93f603",
        "trusted": true
      },
      "outputs": [],
      "execution_count": null
    },
    {
      "id": "bf138664",
      "cell_type": "markdown",
      "source": "# Boletim de soluções",
      "metadata": {
        "id": "bf138664"
      }
    },
    {
      "id": "89e312ff",
      "cell_type": "code",
      "source": "# importar bibliotecas para geração dos artefatos\nimport pickle",
      "metadata": {
        "id": "89e312ff",
        "trusted": true
      },
      "outputs": [],
      "execution_count": null
    },
    {
      "id": "cba1046b",
      "cell_type": "code",
      "source": "# Favor não alterar esta célula\n# verificar a existência das variáveis e gerar artefatos para verificação\nif 'exercicio1' in globals():\n    print('DataFrame exercicio1 localizado. Ele poderá ser enviado para validação.')\n    with open(f'{chaveF}_exercicio1.pkl','wb') as f:\n        pickle.dump(exercicio1, f)\nelse:\n    print('O exercício 1 não tem condições de ser avaliado.')\n\nif 'exercicio2' in globals():\n    print('DataFrame exercicio2 localizado. Ele poderá ser enviado para validação.')\n    with open(f'{chaveF}_exercicio2.pkl','wb') as f:\n        pickle.dump(exercicio2, f)\nelse:\n    print('O exercício 2 não tem condições de ser avaliado.')\n\nif 'exercicio3' in globals():\n    print('DataFrame exercicio3 localizado. Ele poderá ser enviado para validação.')\n    with open(f'{chaveF}_exercicio3.pkl','wb') as f:\n        pickle.dump(exercicio3, f)\nelse:\n    print('O exercício 3 não tem condições de ser avaliado.')\n\nif 'exercicio4' in globals():\n    print('DataFrame exercicio4 localizado. Ele poderá ser enviado para validação.')\n    with open(f'{chaveF}_exercicio4.pkl','wb') as f:\n        pickle.dump(exercicio4, f)\nelse:\n    print('O exercício 4 não tem condições de ser avaliado.')\n\nif 'exercicio5' in globals():\n    print('DataFrame exercicio5 localizado. Ele poderá ser enviado para validação.')\n    with open(f'{chaveF}_exercicio5.pkl','wb') as f:\n        pickle.dump(exercicio5, f)\nelse:\n    print('O exercício 5 não tem condições de ser avaliado.')\n\nif 'exercicio6' in globals():\n    print('DataFrame exercicio6 localizado. Ele poderá ser enviado para validação.')\n    with open(f'{chaveF}_exercicio6.pkl','wb') as f:\n        pickle.dump(exercicio6, f)\nelse:\n    print('O exercício 6 não tem condições de ser avaliado.')\n\nif 'exercicio7' in globals():\n    print('DataFrame exercicio7 localizado. Ele poderá ser enviado para validação.')\n    with open(f'{chaveF}_exercicio7.pkl','wb') as f:\n        pickle.dump(exercicio7, f)\nelse:\n    print('O exercício 7 não tem condições de ser avaliado.')\n\nif 'exercicio8' in globals():\n    print('DataFrame exercicio8 localizado. Ele poderá ser enviado para validação.')\n    with open(f'{chaveF}_exercicio8.pkl','wb') as f:\n        pickle.dump(exercicio8, f)\nelse:\n    print('O exercício 8 não tem condições de ser avaliado.')\n\nif 'exercicio9' in globals():\n    print('DataFrame exercicio9 localizado. Ele poderá ser enviado para validação.')\n    with open(f'{chaveF}_exercicio9.pkl','wb') as f:\n        pickle.dump(exercicio9, f)\nelse:\n    print('O exercício 9 não tem condições de ser avaliado.')\n\nif 'exercicio10a' in globals():\n    print('DataFrame exercicio10a localizado. Ele poderá ser enviado para validação.')\n    with open(f'{chaveF}_exercicio10a.pkl','wb') as f:\n        pickle.dump(exercicio10a, f)\nelse:\n    print('O exercício 10a não tem condições de ser avaliado.')\n\nif 'exercicio10b' in globals():\n    print('DataFrame exercicio10b localizado. Ele poderá ser enviado para validação.')\n    with open(f'{chaveF}_exercicio10b.pkl','wb') as f:\n        pickle.dump(exercicio10b, f)\nelse:\n    print('O exercício 10b não tem condições de ser avaliado.')\n\nif 'exercicio10c' in globals():\n    print('DataFrame exercicio10c localizado. Ele poderá ser enviado para validação.')\n    with open(f'{chaveF}_exercicio10c.pkl','wb') as f:\n        pickle.dump(exercicio10c, f)\nelse:\n    print('O exercício 10c não tem condições de ser avaliado.')\n\nif 'exercicio11a' in globals():\n    print('DataFrame exercicio11a localizado. Ele poderá ser enviado para validação.')\n    with open(f'{chaveF}_exercicio11a.pkl','wb') as f:\n        pickle.dump(exercicio11a, f)\nelse:\n    print('O exercicio11a não tem condições de ser avaliado.')\n\nif 'exercicio11b' in globals():\n    print('DataFrame exercicio11b localizado. Ele poderá ser enviado para validação.')\n    with open(f'{chaveF}_exercicio11b.pkl','wb') as f:\n        pickle.dump(exercicio11b, f)\nelse:\n    print('O exercicio11b não tem condições de ser avaliado.')\n\nif 'exercicio11c' in globals():\n    print('DataFrame exercicio11c localizado. Ele poderá ser enviado para validação.')\n    with open(f'{chaveF}_exercicio11c.pkl','wb') as f:\n        pickle.dump(exercicio11c, f)\nelse:\n    print('O exercicio11c não tem condições de ser avaliado.')\n\nif 'exercicio11d' in globals():\n    print('DataFrame exercicio11d localizado. Ele poderá ser enviado para validação.')\n    with open(f'{chaveF}_exercicio11d.pkl','wb') as f:\n        pickle.dump(exercicio11d, f)\nelse:\n    print('O exercicio11d não tem condições de ser avaliado.')\n\n\nif 'exercicio12a' in globals():\n    print('Variável exercicio12a localizada. Ele poderá ser enviado para validação.')\n    with open(f'{chaveF}_exercicio12a.pkl','wb') as f:\n        pickle.dump(exercicio12a, f)\nelse:\n    print('O exercicio12a não tem condições de ser avaliado.')\n\nif 'exercicio12b' in globals():\n    print('Variável exercicio12b localizada. Ele poderá ser enviado para validação.')\n    with open(f'{chaveF}_exercicio12b.pkl','wb') as f:\n        pickle.dump(exercicio12b, f)\nelse:\n    print('O exercicio12b não tem condições de ser avaliado.')\n\nif 'exercicio12c' in globals():\n    print('Variável exercicio12c localizada. Ele poderá ser enviado para validação.')\n    with open(f'{chaveF}_exercicio12c.pkl','wb') as f:\n        pickle.dump(exercicio12c, f)\nelse:\n    print('O exercicio12c não tem condições de ser avaliado.')\n\nif 'exercicio12d' in globals():\n    print('Variável exercicio12d localizada. Ele poderá ser enviado para validação.')\n    with open(f'{chaveF}_exercicio12d.pkl','wb') as f:\n        pickle.dump(exercicio12d, f)\nelse:\n    print('O exercicio12d não tem condições de ser avaliado.')\n\nif 'exercicio12e' in globals():\n    print('Variável exercicio12e localizada. Ele poderá ser enviado para validação.')\n    with open(f'{chaveF}_exercicio12e.pkl','wb') as f:\n        pickle.dump(exercicio12e, f)\nelse:\n    print('O exercicio12e não tem condições de ser avaliado.')\n\nif 'exercicio12f' in globals():\n    print('exercicio12f localizado. Ele poderá ser enviado para validação.')\n    with open(f'{chaveF}_exercicio12f.pkl','wb') as f:\n        pickle.dump(exercicio12f, f)\nelse:\n    print('O exercicio12f não tem condições de ser avaliado.')\n\nif 'exercicio12g' in globals():\n    print('exercicio12g localizado. Ele poderá ser enviado para validação.')\n    with open(f'{chaveF}_exercicio12g.pkl','wb') as f:\n        pickle.dump(exercicio12g, f)\nelse:\n    print('exercicio12g não tem condições de ser avaliado.')\n\n\nif 'exercicio13a' in globals():\n    print('exercicio13a localizado. Ele poderá ser enviado para validação.')\n    with open(f'{chaveF}_exercicio13a.pkl','wb') as f:\n        pickle.dump(exercicio13a, f)\nelse:\n    print('O exercicio13a não tem condições de ser avaliado.')\n\nif 'exercicio13b' in globals():\n    print('exercicio13b localizado. Ele poderá ser enviado para validação.')\n    with open(f'{chaveF}_exercicio13b.pkl','wb') as f:\n        pickle.dump(exercicio13b, f)\nelse:\n    print('O exercicio13b não tem condições de ser avaliado.')\n\nif 'exercicio13c' in globals():\n    print('exercicio13c localizado. Ele poderá ser enviado para validação.')\n    with open(f'{chaveF}_exercicio13c.pkl','wb') as f:\n        pickle.dump(exercicio13c, f)\nelse:\n    print('O exercicio13c não tem condições de ser avaliado.')\n\nif 'smt' in globals():\n    print('Objeto smt localizado. Ele poderá ser enviado para validação.')\n    with open(f'{chaveF}_smt.pkl','wb') as f:\n        pickle.dump(smt, f)\nelse:\n    print('O smt não tem condições de ser avaliado.')\n\nif 'exercicio14a' in globals():\n    print('Objeto exercicio14a localizado. Ele poderá ser enviado para validação.')\n    with open(f'{chaveF}_exercicio14a.pkl','wb') as f:\n        pickle.dump(exercicio14a, f)\nelse:\n    print('O exercicio14a não tem condições de ser avaliado.')\n\nif 'exercicio14b' in globals():\n    print('Objeto exercicio14b localizado. Ele poderá ser enviado para validação.')\n    with open(f'{chaveF}_exercicio14b.pkl','wb') as f:\n        pickle.dump(exercicio14b, f)\nelse:\n    print('O exercicio14b não tem condições de ser avaliado.')\n\nif 'exercicio14c' in globals():\n    print('Objeto exercicio14c localizado. Ele poderá ser enviado para validação.')\n    with open(f'{chaveF}_exercicio14c.pkl','wb') as f:\n        pickle.dump(exercicio14c, f)\nelse:\n    print('O exercicio14c não tem condições de ser avaliado.')\n\nif 'exercicio14d' in globals():\n    print('Objeto exercicio14d localizado. Ele poderá ser enviado para validação.')\n    with open(f'{chaveF}_exercicio14d.pkl','wb') as f:\n        pickle.dump(exercicio14d, f)\nelse:\n    print('O exercicio14d não tem condições de ser avaliado.')\n\nif 'exercicio14e' in globals():\n    print('Objeto exercicio14e localizado. Ele poderá ser enviado para validação.')\n    with open(f'{chaveF}_exercicio14e.pkl','wb') as f:\n        pickle.dump(exercicio14e, f)\nelse:\n    print('O exercicio14e não tem condições de ser avaliado.')\n\nif 'exercicio14f' in globals():\n    print('Objeto exercicio14f localizado. Ele poderá ser enviado para validação.')\n    with open(f'{chaveF}_exercicio14f.pkl','wb') as f:\n        pickle.dump(exercicio14f, f)\nelse:\n    print('O exercicio14f não tem condições de ser avaliado.')\n\nif 'exercicio15a' in globals():\n    print('Objeto exercicio15a localizado. Ele poderá ser enviado para validação.')\n    with open(f'{chaveF}_exercicio15a.pkl','wb') as f:\n        pickle.dump(exercicio15a, f)\nelse:\n    print('O exercicio15a não tem condições de ser avaliado.')\n\nif 'exercicio15b' in globals():\n    print('Objeto exercicio15b localizado. Ele poderá ser enviado para validação.')\n    with open(f'{chaveF}_exercicio15b.pkl','wb') as f:\n        pickle.dump(exercicio15b, f)\nelse:\n    print('O exercicio15b não tem condições de ser avaliado.')\n\nif 'exercicio15c' in globals():\n    print('Objeto exercicio15c localizado. Ele poderá ser enviado para validação.')\n    with open(f'{chaveF}_exercicio15c.pkl','wb') as f:\n        pickle.dump(exercicio15c, f)\nelse:\n    print('O exercicio15c não tem condições de ser avaliado.')\n\nif 'exercicio15d' in globals():\n    print('Objeto exercicio15d localizado. Ele poderá ser enviado para validação.')\n    with open(f'{chaveF}_exercicio15d.pkl','wb') as f:\n        pickle.dump(exercicio15d, f)\nelse:\n    print('O exercicio15d não tem condições de ser avaliado.')\n\nif 'exercicio15e' in globals():\n    print('Objeto exercicio15e localizado. Ele poderá ser enviado para validação.')\n    with open(f'{chaveF}_exercicio15e.pkl','wb') as f:\n        pickle.dump(exercicio15e, f)\nelse:\n    print('O exercicio15e não tem condições de ser avaliado.')\n\nif 'exercicio15f' in globals():\n    print('Objeto exercicio15f localizado. Ele poderá ser enviado para validação.')\n    with open(f'{chaveF}_exercicio15f.pkl','wb') as f:\n        pickle.dump(exercicio15f, f)\nelse:\n    print('O exercicio15f não tem condições de ser avaliado.')\n\nif 'logreg' in globals():\n    print('Variável logreg localizada. Ele poderá ser enviado para validação.')\n    with open(f'{chaveF}_logreg.pkl','wb') as f:\n        pickle.dump(logreg, f)\nelse:\n    print('O logreg não tem condições de ser avaliado.')\n\nif 'clf' in globals():\n    print('Variável clf localizada. Ele poderá ser enviado para validação.')\n    with open(f'{chaveF}_clf.pkl','wb') as f:\n        pickle.dump(clf, f)\nelse:\n    print('O clf não tem condições de ser avaliado.')\n\nif 'svc' in globals():\n    print('Variável svc localizada. Ele poderá ser enviado para validação.')\n    with open(f'{chaveF}_svc.pkl','wb') as f:\n        pickle.dump(svc, f)\nelse:\n    print('O svc não tem condições de ser avaliado.')\n    ",
      "metadata": {
        "id": "cba1046b",
        "trusted": true
      },
      "outputs": [],
      "execution_count": null
    },
    {
      "id": "00c1bebc",
      "cell_type": "code",
      "source": "",
      "metadata": {
        "id": "00c1bebc",
        "trusted": true
      },
      "outputs": [],
      "execution_count": null
    }
  ]
}